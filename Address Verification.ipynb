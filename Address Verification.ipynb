{
 "cells": [
  {
   "cell_type": "markdown",
   "metadata": {},
   "source": [
    "# Intro\n",
    "The purpose of this notebook is to prepare PACE (Propery Assessed Clean Energy loan data). The data contains reported loan data for addresses data in LA County, Califronia. People who agree to the program are often unaware that they are signing of for a loan which comes in the form of property taxes, and are approved by using the home value as collateral. I've been asked to visualize map poiunts based off geographic data and explore whether or not there is a concentration in Hispanic and Black populated zip codes. "
   ]
  },
  {
   "cell_type": "code",
   "execution_count": 1,
   "metadata": {},
   "outputs": [],
   "source": [
    "import fuzzywuzzy\n",
    "import pandas as pd\n",
    "import metaphone\n",
    "import fuzzymatcher"
   ]
  },
  {
   "cell_type": "markdown",
   "metadata": {},
   "source": [
    "# Working with Zipcodes"
   ]
  },
  {
   "cell_type": "code",
   "execution_count": 2,
   "metadata": {},
   "outputs": [],
   "source": [
    "# Importing Data given to me\n",
    "pace_data = pd.read_excel('2020.02.03_PACE_LA_County_Programs_Address_Match_Total.xlsx', sheet_name = 1)"
   ]
  },
  {
   "cell_type": "code",
   "execution_count": 3,
   "metadata": {},
   "outputs": [],
   "source": [
    "# data set with zip_code\n",
    "zip_codes = pd.read_csv('US_zip_codes.csv')"
   ]
  },
  {
   "cell_type": "code",
   "execution_count": 269,
   "metadata": {},
   "outputs": [],
   "source": [
    "# use this to change row settings\n",
    "# pd.set_option(\"display.max_rows\", None)\n",
    "pd.set_option('display.max_rows', 100)"
   ]
  },
  {
   "cell_type": "code",
   "execution_count": 5,
   "metadata": {
    "scrolled": true
   },
   "outputs": [
    {
     "data": {
      "text/plain": [
       "Index(['Assessor's Parcel Number (APN)', 'Principal Amount',\n",
       "       'Annual Assessment Amount', 'Maturity Date', 'Origination Date',\n",
       "       'Program', 'Address', 'Zip', 'Count for Property', 'NOD', 'FC', 'Refi',\n",
       "       'Unique Property', 'Address Missing'],\n",
       "      dtype='object')"
      ]
     },
     "execution_count": 5,
     "metadata": {},
     "output_type": "execute_result"
    }
   ],
   "source": [
    "pace_data.columns"
   ]
  },
  {
   "cell_type": "code",
   "execution_count": 12,
   "metadata": {},
   "outputs": [
    {
     "data": {
      "text/plain": [
       "NaN                                               2499\n",
       "1120 STOVALL AVE  HACIENDA HEIGHTS CA  91745         7\n",
       "18906 NEARBROOK ST  SANTA CLARITA CA  91351          7\n",
       "10902 LOCH AVON DR  WHITTIER CA  90606               6\n",
       "15385 RHODODENDRON DR  SANTA CLARITA CA  91387       6\n",
       "                                                  ... \n",
       "632 S GRAND AVE  PASADENA CA  91105                  1\n",
       "1073 E 8TH ST  POMONA CA  91766                      1\n",
       "4601 LAKEWOOD BLVD  LAKEWOOD CA  90712               1\n",
       "36855 FIDDLENECK CT  PALMDALE CA  93550              1\n",
       "1877 W 38TH ST  LOS ANGELES CA  90062                1\n",
       "Name: Address, Length: 26327, dtype: int64"
      ]
     },
     "execution_count": 12,
     "metadata": {},
     "output_type": "execute_result"
    }
   ],
   "source": [
    "pace_data['Address'].value_counts(dropna = False)"
   ]
  },
  {
   "cell_type": "code",
   "execution_count": 11,
   "metadata": {
    "scrolled": true
   },
   "outputs": [
    {
     "data": {
      "text/plain": [
       "NaN             2496\n",
       "90650.000000     731\n",
       "90047.000000     624\n",
       "93535.000000     566\n",
       "91331.000000     547\n",
       "                ... \n",
       "0.923630           1\n",
       "30175.000000       1\n",
       "0.448625           1\n",
       "90057.000000       1\n",
       "90094.000000       1\n",
       "Name: Zip, Length: 268, dtype: int64"
      ]
     },
     "execution_count": 11,
     "metadata": {},
     "output_type": "execute_result"
    }
   ],
   "source": [
    "pace_data['Zip'].value_counts(dropna = False)"
   ]
  },
  {
   "cell_type": "code",
   "execution_count": 9,
   "metadata": {
    "scrolled": true
   },
   "outputs": [
    {
     "data": {
      "text/html": [
       "<div>\n",
       "<style scoped>\n",
       "    .dataframe tbody tr th:only-of-type {\n",
       "        vertical-align: middle;\n",
       "    }\n",
       "\n",
       "    .dataframe tbody tr th {\n",
       "        vertical-align: top;\n",
       "    }\n",
       "\n",
       "    .dataframe thead th {\n",
       "        text-align: right;\n",
       "    }\n",
       "</style>\n",
       "<table border=\"1\" class=\"dataframe\">\n",
       "  <thead>\n",
       "    <tr style=\"text-align: right;\">\n",
       "      <th></th>\n",
       "      <th>Assessor's Parcel Number (APN)</th>\n",
       "      <th>Principal Amount</th>\n",
       "      <th>Annual Assessment Amount</th>\n",
       "      <th>Maturity Date</th>\n",
       "      <th>Origination Date</th>\n",
       "      <th>Program</th>\n",
       "      <th>Address</th>\n",
       "      <th>Zip</th>\n",
       "      <th>Count for Property</th>\n",
       "      <th>NOD</th>\n",
       "      <th>FC</th>\n",
       "      <th>Refi</th>\n",
       "      <th>Unique Property</th>\n",
       "      <th>Address Missing</th>\n",
       "    </tr>\n",
       "  </thead>\n",
       "  <tbody>\n",
       "    <tr>\n",
       "      <th>32671</th>\n",
       "      <td>NaN</td>\n",
       "      <td>NaN</td>\n",
       "      <td>NaN</td>\n",
       "      <td>NaT</td>\n",
       "      <td>NaT</td>\n",
       "      <td>NaN</td>\n",
       "      <td>NaN</td>\n",
       "      <td>30175.0</td>\n",
       "      <td>NaN</td>\n",
       "      <td>NaN</td>\n",
       "      <td>NaN</td>\n",
       "      <td>NaN</td>\n",
       "      <td>NaN</td>\n",
       "      <td>NaN</td>\n",
       "    </tr>\n",
       "  </tbody>\n",
       "</table>\n",
       "</div>"
      ],
      "text/plain": [
       "      Assessor's Parcel Number (APN)  Principal Amount  \\\n",
       "32671                            NaN               NaN   \n",
       "\n",
       "       Annual Assessment Amount Maturity Date Origination Date Program  \\\n",
       "32671                       NaN           NaT              NaT     NaN   \n",
       "\n",
       "      Address      Zip Count for Property  NOD   FC Refi  Unique Property  \\\n",
       "32671     NaN  30175.0                NaN  NaN  NaN  NaN              NaN   \n",
       "\n",
       "       Address Missing  \n",
       "32671              NaN  "
      ]
     },
     "execution_count": 9,
     "metadata": {},
     "output_type": "execute_result"
    }
   ],
   "source": [
    "# Only Zip code that doesn't start with 9\n",
    "pace_data[pace_data['Zip'] == 30175]"
   ]
  },
  {
   "cell_type": "code",
   "execution_count": 29,
   "metadata": {},
   "outputs": [],
   "source": [
    "# filled null values merged zip_code data\n",
    "pace_data['Address'] = pace_data['Address'].fillna('Unknown')\n",
    "\n",
    "pace_data['Zip'] = pace_data['Zip'].fillna(0).astype(int)\n",
    "\n",
    "pace_merged = pace_data.merge(zip_codes, how = 'left', left_on = 'Zip', right_on = 'ZIPCODE')\n",
    "\n",
    "pace_merged = pace_merged[pace_merged['Address'] != 'Unknown']"
   ]
  },
  {
   "cell_type": "code",
   "execution_count": 45,
   "metadata": {
    "scrolled": true
   },
   "outputs": [
    {
     "data": {
      "text/plain": [
       "Index(['Assessor's Parcel Number (APN)', 'Principal Amount',\n",
       "       'Annual Assessment Amount', 'Maturity Date', 'Origination Date',\n",
       "       'Program', 'Address', 'Zip', 'Count for Property', 'NOD', 'FC', 'Refi',\n",
       "       'Unique Property', 'Address Missing'],\n",
       "      dtype='object')"
      ]
     },
     "execution_count": 45,
     "metadata": {},
     "output_type": "execute_result"
    }
   ],
   "source": [
    "pace_data.columns"
   ]
  },
  {
   "cell_type": "code",
   "execution_count": 14,
   "metadata": {
    "scrolled": false
   },
   "outputs": [
    {
     "ename": "NameError",
     "evalue": "name 'pace_merged' is not defined",
     "output_type": "error",
     "traceback": [
      "\u001b[1;31m---------------------------------------------------------------------------\u001b[0m",
      "\u001b[1;31mNameError\u001b[0m                                 Traceback (most recent call last)",
      "\u001b[1;32m<ipython-input-14-35c90c2f00b0>\u001b[0m in \u001b[0;36m<module>\u001b[1;34m\u001b[0m\n\u001b[1;32m----> 1\u001b[1;33m pace_merged = pace_merged.drop(['GEOID10', 'CLASSFP10', 'MTFCC10', 'FUNCSTAT10', 'ALAND10',\n\u001b[0m\u001b[0;32m      2\u001b[0m        'AWATER10'], axis = 1)\n",
      "\u001b[1;31mNameError\u001b[0m: name 'pace_merged' is not defined"
     ]
    }
   ],
   "source": [
    "pace_merged = pace_merged.drop(['GEOID10', 'CLASSFP10', 'MTFCC10', 'FUNCSTAT10', 'ALAND10',\n",
    "       'AWATER10'], axis = 1)"
   ]
  },
  {
   "cell_type": "code",
   "execution_count": 13,
   "metadata": {
    "scrolled": false
   },
   "outputs": [
    {
     "ename": "NameError",
     "evalue": "name 'pace_merged' is not defined",
     "output_type": "error",
     "traceback": [
      "\u001b[1;31m---------------------------------------------------------------------------\u001b[0m",
      "\u001b[1;31mNameError\u001b[0m                                 Traceback (most recent call last)",
      "\u001b[1;32m<ipython-input-13-6eb485fc4cf3>\u001b[0m in \u001b[0;36m<module>\u001b[1;34m\u001b[0m\n\u001b[1;32m----> 1\u001b[1;33m \u001b[0mpace_merged\u001b[0m\u001b[1;33m\u001b[0m\u001b[1;33m\u001b[0m\u001b[0m\n\u001b[0m",
      "\u001b[1;31mNameError\u001b[0m: name 'pace_merged' is not defined"
     ]
    }
   ],
   "source": [
    "pace_merged.head()"
   ]
  },
  {
   "cell_type": "code",
   "execution_count": 52,
   "metadata": {},
   "outputs": [],
   "source": [
    "# personal data I don't want posted to tableau\n",
    "pace_confidential = pace_merged.drop([\"Assessor's Parcel Number (APN)\", 'Address'],axis =1)"
   ]
  },
  {
   "cell_type": "markdown",
   "metadata": {},
   "source": [
    "## Zipcode data export"
   ]
  },
  {
   "cell_type": "code",
   "execution_count": 53,
   "metadata": {},
   "outputs": [],
   "source": [
    "# pace_confidential.to_csv('Pace_LA_County_Confidential')"
   ]
  },
  {
   "cell_type": "markdown",
   "metadata": {},
   "source": [
    "# Working on Individual Level\n",
    "### Found data on invidual level. Will merge data here to original dataset and then git rid of unwanted columns"
   ]
  },
  {
   "cell_type": "code",
   "execution_count": 4,
   "metadata": {
    "scrolled": true
   },
   "outputs": [],
   "source": [
    "all_parcel = pd.read_csv('Assessor_Parcels_Data_-_2006_thru_2021.csv')"
   ]
  },
  {
   "cell_type": "code",
   "execution_count": 5,
   "metadata": {},
   "outputs": [
    {
     "data": {
      "text/html": [
       "<div>\n",
       "<style scoped>\n",
       "    .dataframe tbody tr th:only-of-type {\n",
       "        vertical-align: middle;\n",
       "    }\n",
       "\n",
       "    .dataframe tbody tr th {\n",
       "        vertical-align: top;\n",
       "    }\n",
       "\n",
       "    .dataframe thead th {\n",
       "        text-align: right;\n",
       "    }\n",
       "</style>\n",
       "<table border=\"1\" class=\"dataframe\">\n",
       "  <thead>\n",
       "    <tr style=\"text-align: right;\">\n",
       "      <th></th>\n",
       "      <th>Assessor's Parcel Number (APN)</th>\n",
       "      <th>Principal Amount</th>\n",
       "      <th>Annual Assessment Amount</th>\n",
       "      <th>Maturity Date</th>\n",
       "      <th>Origination Date</th>\n",
       "      <th>Program</th>\n",
       "      <th>Address</th>\n",
       "      <th>Zip</th>\n",
       "      <th>Count for Property</th>\n",
       "      <th>NOD</th>\n",
       "      <th>FC</th>\n",
       "      <th>Refi</th>\n",
       "      <th>Unique Property</th>\n",
       "      <th>Address Missing</th>\n",
       "    </tr>\n",
       "  </thead>\n",
       "  <tbody>\n",
       "    <tr>\n",
       "      <th>0</th>\n",
       "      <td>2803-032-008</td>\n",
       "      <td>19421.99</td>\n",
       "      <td>2039.05</td>\n",
       "      <td>2036-09-02</td>\n",
       "      <td>2016-01-21</td>\n",
       "      <td>CAFIRST LA</td>\n",
       "      <td>18906 NEARBROOK ST  SANTA CLARITA CA  91351</td>\n",
       "      <td>91351.0</td>\n",
       "      <td>7</td>\n",
       "      <td>Y</td>\n",
       "      <td>NaN</td>\n",
       "      <td>NaN</td>\n",
       "      <td>1.0</td>\n",
       "      <td>0.0</td>\n",
       "    </tr>\n",
       "    <tr>\n",
       "      <th>1</th>\n",
       "      <td>2803-032-008</td>\n",
       "      <td>32185.60</td>\n",
       "      <td>4726.28</td>\n",
       "      <td>2026-09-02</td>\n",
       "      <td>2016-03-03</td>\n",
       "      <td>CAFIRST LA</td>\n",
       "      <td>18906 NEARBROOK ST  SANTA CLARITA CA  91351</td>\n",
       "      <td>91351.0</td>\n",
       "      <td>7</td>\n",
       "      <td>Y</td>\n",
       "      <td>NaN</td>\n",
       "      <td>NaN</td>\n",
       "      <td>0.0</td>\n",
       "      <td>0.0</td>\n",
       "    </tr>\n",
       "    <tr>\n",
       "      <th>2</th>\n",
       "      <td>2803-032-008</td>\n",
       "      <td>28074.74</td>\n",
       "      <td>2939.46</td>\n",
       "      <td>2036-09-02</td>\n",
       "      <td>2016-04-07</td>\n",
       "      <td>CAFIRST LA</td>\n",
       "      <td>18906 NEARBROOK ST  SANTA CLARITA CA  91351</td>\n",
       "      <td>91351.0</td>\n",
       "      <td>7</td>\n",
       "      <td>Y</td>\n",
       "      <td>NaN</td>\n",
       "      <td>NaN</td>\n",
       "      <td>0.0</td>\n",
       "      <td>0.0</td>\n",
       "    </tr>\n",
       "    <tr>\n",
       "      <th>3</th>\n",
       "      <td>2803-032-008</td>\n",
       "      <td>48148.36</td>\n",
       "      <td>4679.68</td>\n",
       "      <td>2041-09-02</td>\n",
       "      <td>2015-11-05</td>\n",
       "      <td>CAFIRST LA</td>\n",
       "      <td>18906 NEARBROOK ST  SANTA CLARITA CA  91351</td>\n",
       "      <td>91351.0</td>\n",
       "      <td>7</td>\n",
       "      <td>Y</td>\n",
       "      <td>NaN</td>\n",
       "      <td>NaN</td>\n",
       "      <td>0.0</td>\n",
       "      <td>0.0</td>\n",
       "    </tr>\n",
       "    <tr>\n",
       "      <th>4</th>\n",
       "      <td>2803-032-008</td>\n",
       "      <td>6827.82</td>\n",
       "      <td>815.20</td>\n",
       "      <td>2031-09-02</td>\n",
       "      <td>2015-12-28</td>\n",
       "      <td>CAFIRST LA</td>\n",
       "      <td>18906 NEARBROOK ST  SANTA CLARITA CA  91351</td>\n",
       "      <td>91351.0</td>\n",
       "      <td>7</td>\n",
       "      <td>Y</td>\n",
       "      <td>NaN</td>\n",
       "      <td>NaN</td>\n",
       "      <td>0.0</td>\n",
       "      <td>0.0</td>\n",
       "    </tr>\n",
       "  </tbody>\n",
       "</table>\n",
       "</div>"
      ],
      "text/plain": [
       "  Assessor's Parcel Number (APN)  Principal Amount  Annual Assessment Amount  \\\n",
       "0                   2803-032-008          19421.99                   2039.05   \n",
       "1                   2803-032-008          32185.60                   4726.28   \n",
       "2                   2803-032-008          28074.74                   2939.46   \n",
       "3                   2803-032-008          48148.36                   4679.68   \n",
       "4                   2803-032-008           6827.82                    815.20   \n",
       "\n",
       "  Maturity Date Origination Date     Program  \\\n",
       "0    2036-09-02       2016-01-21  CAFIRST LA   \n",
       "1    2026-09-02       2016-03-03  CAFIRST LA   \n",
       "2    2036-09-02       2016-04-07  CAFIRST LA   \n",
       "3    2041-09-02       2015-11-05  CAFIRST LA   \n",
       "4    2031-09-02       2015-12-28  CAFIRST LA   \n",
       "\n",
       "                                       Address      Zip Count for Property  \\\n",
       "0  18906 NEARBROOK ST  SANTA CLARITA CA  91351  91351.0                  7   \n",
       "1  18906 NEARBROOK ST  SANTA CLARITA CA  91351  91351.0                  7   \n",
       "2  18906 NEARBROOK ST  SANTA CLARITA CA  91351  91351.0                  7   \n",
       "3  18906 NEARBROOK ST  SANTA CLARITA CA  91351  91351.0                  7   \n",
       "4  18906 NEARBROOK ST  SANTA CLARITA CA  91351  91351.0                  7   \n",
       "\n",
       "  NOD   FC Refi  Unique Property  Address Missing  \n",
       "0   Y  NaN  NaN              1.0              0.0  \n",
       "1   Y  NaN  NaN              0.0              0.0  \n",
       "2   Y  NaN  NaN              0.0              0.0  \n",
       "3   Y  NaN  NaN              0.0              0.0  \n",
       "4   Y  NaN  NaN              0.0              0.0  "
      ]
     },
     "execution_count": 5,
     "metadata": {},
     "output_type": "execute_result"
    }
   ],
   "source": [
    "pace_data.head()"
   ]
  },
  {
   "cell_type": "code",
   "execution_count": 6,
   "metadata": {
    "scrolled": true
   },
   "outputs": [
    {
     "data": {
      "text/html": [
       "<div>\n",
       "<style scoped>\n",
       "    .dataframe tbody tr th:only-of-type {\n",
       "        vertical-align: middle;\n",
       "    }\n",
       "\n",
       "    .dataframe tbody tr th {\n",
       "        vertical-align: top;\n",
       "    }\n",
       "\n",
       "    .dataframe thead th {\n",
       "        text-align: right;\n",
       "    }\n",
       "</style>\n",
       "<table border=\"1\" class=\"dataframe\">\n",
       "  <thead>\n",
       "    <tr style=\"text-align: right;\">\n",
       "      <th></th>\n",
       "      <th>ZIPcode</th>\n",
       "      <th>TaxRateArea_CITY</th>\n",
       "      <th>AIN</th>\n",
       "      <th>RollYear</th>\n",
       "      <th>TaxRateArea</th>\n",
       "      <th>AssessorID</th>\n",
       "      <th>PropertyLocation</th>\n",
       "      <th>PropertyType</th>\n",
       "      <th>PropertyUseCode</th>\n",
       "      <th>GeneralUseType</th>\n",
       "      <th>...</th>\n",
       "      <th>HouseFraction</th>\n",
       "      <th>StreetDirection</th>\n",
       "      <th>StreetName</th>\n",
       "      <th>UnitNo</th>\n",
       "      <th>City</th>\n",
       "      <th>ZIPcode5</th>\n",
       "      <th>rowID</th>\n",
       "      <th>CENTER_LAT</th>\n",
       "      <th>CENTER_LON</th>\n",
       "      <th>Location 1</th>\n",
       "    </tr>\n",
       "  </thead>\n",
       "  <tbody>\n",
       "    <tr>\n",
       "      <th>0</th>\n",
       "      <td>91604-3019</td>\n",
       "      <td>LOS ANGELES</td>\n",
       "      <td>2368011020</td>\n",
       "      <td>2020</td>\n",
       "      <td>13</td>\n",
       "      <td>2368-011-020</td>\n",
       "      <td>11571 DILLING ST  LOS ANGELES CA  91604</td>\n",
       "      <td>VAC</td>\n",
       "      <td>010V</td>\n",
       "      <td>Residential</td>\n",
       "      <td>...</td>\n",
       "      <td>NaN</td>\n",
       "      <td>NaN</td>\n",
       "      <td>DILLING ST</td>\n",
       "      <td>NaN</td>\n",
       "      <td>LOS ANGELES CA</td>\n",
       "      <td>91604</td>\n",
       "      <td>20202368011020</td>\n",
       "      <td>34.143598</td>\n",
       "      <td>-118.384811</td>\n",
       "      <td>(34.14359841, -118.38481081)</td>\n",
       "    </tr>\n",
       "    <tr>\n",
       "      <th>1</th>\n",
       "      <td>90254-2453</td>\n",
       "      <td>HERMOSA BEACH</td>\n",
       "      <td>4181023010</td>\n",
       "      <td>2020</td>\n",
       "      <td>4340</td>\n",
       "      <td>4181-023-010</td>\n",
       "      <td>230 28TH ST  HERMOSA BEACH CA  90254</td>\n",
       "      <td>SFR</td>\n",
       "      <td>0100</td>\n",
       "      <td>Residential</td>\n",
       "      <td>...</td>\n",
       "      <td>NaN</td>\n",
       "      <td>NaN</td>\n",
       "      <td>28TH ST</td>\n",
       "      <td>NaN</td>\n",
       "      <td>HERMOSA BEACH CA</td>\n",
       "      <td>90254</td>\n",
       "      <td>20204181023010</td>\n",
       "      <td>33.873747</td>\n",
       "      <td>-118.404461</td>\n",
       "      <td>(33.87374743, -118.40446108)</td>\n",
       "    </tr>\n",
       "    <tr>\n",
       "      <th>2</th>\n",
       "      <td>90039</td>\n",
       "      <td>LOS ANGELES</td>\n",
       "      <td>5431002033</td>\n",
       "      <td>2020</td>\n",
       "      <td>13</td>\n",
       "      <td>5431-002-033</td>\n",
       "      <td>1933 N GRIFFITH PARK BLVD  LOS ANGELES CA  90039</td>\n",
       "      <td>SFR</td>\n",
       "      <td>01S0</td>\n",
       "      <td>Residential</td>\n",
       "      <td>...</td>\n",
       "      <td>NaN</td>\n",
       "      <td>N</td>\n",
       "      <td>GRIFFITH PARK BLVD</td>\n",
       "      <td>NaN</td>\n",
       "      <td>LOS ANGELES CA</td>\n",
       "      <td>90039</td>\n",
       "      <td>20205431002033</td>\n",
       "      <td>NaN</td>\n",
       "      <td>NaN</td>\n",
       "      <td>NaN</td>\n",
       "    </tr>\n",
       "    <tr>\n",
       "      <th>3</th>\n",
       "      <td>90703-1665</td>\n",
       "      <td>CERRITOS</td>\n",
       "      <td>7016028005</td>\n",
       "      <td>2020</td>\n",
       "      <td>11380</td>\n",
       "      <td>7016-028-005</td>\n",
       "      <td>11377 LAGOON CIR  CERRITOS CA  90703</td>\n",
       "      <td>SFR</td>\n",
       "      <td>0100</td>\n",
       "      <td>Residential</td>\n",
       "      <td>...</td>\n",
       "      <td>NaN</td>\n",
       "      <td>NaN</td>\n",
       "      <td>LAGOON CIR</td>\n",
       "      <td>NaN</td>\n",
       "      <td>CERRITOS CA</td>\n",
       "      <td>90703</td>\n",
       "      <td>20207016028005</td>\n",
       "      <td>33.878671</td>\n",
       "      <td>-118.091474</td>\n",
       "      <td>(33.87867104, -118.09147444)</td>\n",
       "    </tr>\n",
       "    <tr>\n",
       "      <th>4</th>\n",
       "      <td>90814-2945</td>\n",
       "      <td>LONG BEACH</td>\n",
       "      <td>7250003003</td>\n",
       "      <td>2020</td>\n",
       "      <td>5500</td>\n",
       "      <td>7250-003-003</td>\n",
       "      <td>364 XIMENO AVE  LONG BEACH CA  90814</td>\n",
       "      <td>SFR</td>\n",
       "      <td>0100</td>\n",
       "      <td>Residential</td>\n",
       "      <td>...</td>\n",
       "      <td>NaN</td>\n",
       "      <td>NaN</td>\n",
       "      <td>XIMENO AVE</td>\n",
       "      <td>NaN</td>\n",
       "      <td>LONG BEACH CA</td>\n",
       "      <td>90814</td>\n",
       "      <td>20207250003003</td>\n",
       "      <td>33.770341</td>\n",
       "      <td>-118.141240</td>\n",
       "      <td>(33.77034108, -118.14123984)</td>\n",
       "    </tr>\n",
       "  </tbody>\n",
       "</table>\n",
       "<p>5 rows × 51 columns</p>\n",
       "</div>"
      ],
      "text/plain": [
       "      ZIPcode TaxRateArea_CITY         AIN  RollYear  TaxRateArea  \\\n",
       "0  91604-3019      LOS ANGELES  2368011020      2020           13   \n",
       "1  90254-2453    HERMOSA BEACH  4181023010      2020         4340   \n",
       "2       90039      LOS ANGELES  5431002033      2020           13   \n",
       "3  90703-1665         CERRITOS  7016028005      2020        11380   \n",
       "4  90814-2945       LONG BEACH  7250003003      2020         5500   \n",
       "\n",
       "     AssessorID                                  PropertyLocation  \\\n",
       "0  2368-011-020           11571 DILLING ST  LOS ANGELES CA  91604   \n",
       "1  4181-023-010              230 28TH ST  HERMOSA BEACH CA  90254   \n",
       "2  5431-002-033  1933 N GRIFFITH PARK BLVD  LOS ANGELES CA  90039   \n",
       "3  7016-028-005              11377 LAGOON CIR  CERRITOS CA  90703   \n",
       "4  7250-003-003              364 XIMENO AVE  LONG BEACH CA  90814   \n",
       "\n",
       "  PropertyType PropertyUseCode GeneralUseType  ... HouseFraction  \\\n",
       "0          VAC            010V    Residential  ...           NaN   \n",
       "1          SFR            0100    Residential  ...           NaN   \n",
       "2          SFR            01S0    Residential  ...           NaN   \n",
       "3          SFR            0100    Residential  ...           NaN   \n",
       "4          SFR            0100    Residential  ...           NaN   \n",
       "\n",
       "  StreetDirection          StreetName  UnitNo              City  ZIPcode5  \\\n",
       "0             NaN          DILLING ST     NaN    LOS ANGELES CA     91604   \n",
       "1             NaN             28TH ST     NaN  HERMOSA BEACH CA     90254   \n",
       "2               N  GRIFFITH PARK BLVD     NaN    LOS ANGELES CA     90039   \n",
       "3             NaN          LAGOON CIR     NaN       CERRITOS CA     90703   \n",
       "4             NaN          XIMENO AVE     NaN     LONG BEACH CA     90814   \n",
       "\n",
       "            rowID  CENTER_LAT  CENTER_LON                    Location 1  \n",
       "0  20202368011020   34.143598 -118.384811  (34.14359841, -118.38481081)  \n",
       "1  20204181023010   33.873747 -118.404461  (33.87374743, -118.40446108)  \n",
       "2  20205431002033         NaN         NaN                           NaN  \n",
       "3  20207016028005   33.878671 -118.091474  (33.87867104, -118.09147444)  \n",
       "4  20207250003003   33.770341 -118.141240  (33.77034108, -118.14123984)  \n",
       "\n",
       "[5 rows x 51 columns]"
      ]
     },
     "execution_count": 6,
     "metadata": {},
     "output_type": "execute_result"
    }
   ],
   "source": [
    "all_parcel.head()"
   ]
  },
  {
   "cell_type": "code",
   "execution_count": 63,
   "metadata": {},
   "outputs": [],
   "source": [
    "data = pace_data.merge(all_parcel, how = 'left', left_on = 'Address', right_on = 'PropertyLocation')"
   ]
  },
  {
   "cell_type": "code",
   "execution_count": 453,
   "metadata": {},
   "outputs": [
    {
     "data": {
      "text/html": [
       "<div>\n",
       "<style scoped>\n",
       "    .dataframe tbody tr th:only-of-type {\n",
       "        vertical-align: middle;\n",
       "    }\n",
       "\n",
       "    .dataframe tbody tr th {\n",
       "        vertical-align: top;\n",
       "    }\n",
       "\n",
       "    .dataframe thead th {\n",
       "        text-align: right;\n",
       "    }\n",
       "</style>\n",
       "<table border=\"1\" class=\"dataframe\">\n",
       "  <thead>\n",
       "    <tr style=\"text-align: right;\">\n",
       "      <th></th>\n",
       "      <th>Principal Amount</th>\n",
       "      <th>Annual Assessment Amount</th>\n",
       "      <th>Zip</th>\n",
       "      <th>Unique Property</th>\n",
       "      <th>Address Missing</th>\n",
       "    </tr>\n",
       "  </thead>\n",
       "  <tbody>\n",
       "    <tr>\n",
       "      <th>count</th>\n",
       "      <td>32670.000000</td>\n",
       "      <td>32670.000000</td>\n",
       "      <td>30178.000000</td>\n",
       "      <td>32671.000000</td>\n",
       "      <td>32671.000000</td>\n",
       "    </tr>\n",
       "    <tr>\n",
       "      <th>mean</th>\n",
       "      <td>27680.932502</td>\n",
       "      <td>3338.881885</td>\n",
       "      <td>91122.272794</td>\n",
       "      <td>1.748952</td>\n",
       "      <td>0.137370</td>\n",
       "    </tr>\n",
       "    <tr>\n",
       "      <th>std</th>\n",
       "      <td>18974.524646</td>\n",
       "      <td>2275.300049</td>\n",
       "      <td>1263.305522</td>\n",
       "      <td>158.058074</td>\n",
       "      <td>12.417051</td>\n",
       "    </tr>\n",
       "    <tr>\n",
       "      <th>min</th>\n",
       "      <td>1051.040000</td>\n",
       "      <td>466.800000</td>\n",
       "      <td>0.448625</td>\n",
       "      <td>0.000000</td>\n",
       "      <td>0.000000</td>\n",
       "    </tr>\n",
       "    <tr>\n",
       "      <th>25%</th>\n",
       "      <td>15479.895000</td>\n",
       "      <td>1908.057500</td>\n",
       "      <td>90302.000000</td>\n",
       "      <td>1.000000</td>\n",
       "      <td>0.000000</td>\n",
       "    </tr>\n",
       "    <tr>\n",
       "      <th>50%</th>\n",
       "      <td>22477.875000</td>\n",
       "      <td>2760.960000</td>\n",
       "      <td>91001.000000</td>\n",
       "      <td>1.000000</td>\n",
       "      <td>0.000000</td>\n",
       "    </tr>\n",
       "    <tr>\n",
       "      <th>75%</th>\n",
       "      <td>34139.180000</td>\n",
       "      <td>4124.912500</td>\n",
       "      <td>91607.000000</td>\n",
       "      <td>1.000000</td>\n",
       "      <td>0.000000</td>\n",
       "    </tr>\n",
       "    <tr>\n",
       "      <th>max</th>\n",
       "      <td>245183.290000</td>\n",
       "      <td>57439.960000</td>\n",
       "      <td>93591.000000</td>\n",
       "      <td>28570.000000</td>\n",
       "      <td>2244.000000</td>\n",
       "    </tr>\n",
       "  </tbody>\n",
       "</table>\n",
       "</div>"
      ],
      "text/plain": [
       "       Principal Amount  Annual Assessment Amount           Zip  \\\n",
       "count      32670.000000              32670.000000  30178.000000   \n",
       "mean       27680.932502               3338.881885  91122.272794   \n",
       "std        18974.524646               2275.300049   1263.305522   \n",
       "min         1051.040000                466.800000      0.448625   \n",
       "25%        15479.895000               1908.057500  90302.000000   \n",
       "50%        22477.875000               2760.960000  91001.000000   \n",
       "75%        34139.180000               4124.912500  91607.000000   \n",
       "max       245183.290000              57439.960000  93591.000000   \n",
       "\n",
       "       Unique Property  Address Missing  \n",
       "count     32671.000000     32671.000000  \n",
       "mean          1.748952         0.137370  \n",
       "std         158.058074        12.417051  \n",
       "min           0.000000         0.000000  \n",
       "25%           1.000000         0.000000  \n",
       "50%           1.000000         0.000000  \n",
       "75%           1.000000         0.000000  \n",
       "max       28570.000000      2244.000000  "
      ]
     },
     "execution_count": 453,
     "metadata": {},
     "output_type": "execute_result"
    }
   ],
   "source": [
    "pace_data.describe()"
   ]
  },
  {
   "cell_type": "code",
   "execution_count": 64,
   "metadata": {},
   "outputs": [],
   "source": [
    "# List of Columns I don't need\n",
    "drop_list = ['NOD', 'FC', 'Refi',\n",
    "       'Unique Property', 'Address Missing', 'ZIPcode', 'TaxRateArea_CITY',\n",
    "       'AIN', 'RollYear', 'TaxRateArea', 'AssessorID', 'PropertyLocation',\n",
    "       'PropertyType', 'PropertyUseCode', 'GeneralUseType', 'SpecificUseType',\n",
    "       'SpecificUseDetail1', 'SpecificUseDetail2', 'totBuildingDataLines',\n",
    "       'YearBuilt', 'EffectiveYearBuilt', 'SQFTmain', 'Bedrooms', 'Bathrooms',\n",
    "       'Units', 'RecordingDate', 'LandValue', 'LandBaseYear',\n",
    "       'ImprovementValue', 'ImpBaseYear', 'TotalLandImpValue',\n",
    "       'HomeownersExemption', 'RealEstateExemption', 'FixtureValue',\n",
    "       'FixtureExemption', 'PersonalPropertyValue',\n",
    "       'PersonalPropertyExemption', 'isTaxableParcel?', 'TotalValue',\n",
    "       'TotalExemption', 'netTaxableValue', 'SpecialParcelClassification',\n",
    "       'AdministrativeRegion', 'Cluster', 'ParcelBoundaryDescription',\n",
    "       'HouseNo', 'HouseFraction', 'StreetDirection', 'StreetName', 'UnitNo',\n",
    "       'City', 'ZIPcode5', 'rowID']"
   ]
  },
  {
   "cell_type": "code",
   "execution_count": 65,
   "metadata": {
    "scrolled": false
   },
   "outputs": [],
   "source": [
    "# Cleaning\n",
    "data = data.drop(drop_list, axis = 1)\n",
    "\n",
    "data = data.rename(columns = {'CENTER_LAT' : 'Latitude', 'CENTER_LON' : 'Longitude'})"
   ]
  },
  {
   "cell_type": "code",
   "execution_count": 66,
   "metadata": {
    "scrolled": false
   },
   "outputs": [
    {
     "data": {
      "text/html": [
       "<div>\n",
       "<style scoped>\n",
       "    .dataframe tbody tr th:only-of-type {\n",
       "        vertical-align: middle;\n",
       "    }\n",
       "\n",
       "    .dataframe tbody tr th {\n",
       "        vertical-align: top;\n",
       "    }\n",
       "\n",
       "    .dataframe thead th {\n",
       "        text-align: right;\n",
       "    }\n",
       "</style>\n",
       "<table border=\"1\" class=\"dataframe\">\n",
       "  <thead>\n",
       "    <tr style=\"text-align: right;\">\n",
       "      <th></th>\n",
       "      <th>Assessor's Parcel Number (APN)</th>\n",
       "      <th>Principal Amount</th>\n",
       "      <th>Annual Assessment Amount</th>\n",
       "      <th>Maturity Date</th>\n",
       "      <th>Origination Date</th>\n",
       "      <th>Program</th>\n",
       "      <th>Address</th>\n",
       "      <th>Zip</th>\n",
       "      <th>Count for Property</th>\n",
       "      <th>Latitude</th>\n",
       "      <th>Longitude</th>\n",
       "      <th>Location 1</th>\n",
       "      <th>ID</th>\n",
       "    </tr>\n",
       "  </thead>\n",
       "  <tbody>\n",
       "    <tr>\n",
       "      <th>0</th>\n",
       "      <td>2803-032-008</td>\n",
       "      <td>19421.99</td>\n",
       "      <td>2039.05</td>\n",
       "      <td>2036-09-02</td>\n",
       "      <td>2016-01-21</td>\n",
       "      <td>CAFIRST LA</td>\n",
       "      <td>18906 NEARBROOK ST  SANTA CLARITA CA  91351</td>\n",
       "      <td>91351.0</td>\n",
       "      <td>7</td>\n",
       "      <td>34.416684</td>\n",
       "      <td>-118.465632</td>\n",
       "      <td>(34.41668389, -118.46563184)</td>\n",
       "      <td>0</td>\n",
       "    </tr>\n",
       "    <tr>\n",
       "      <th>1</th>\n",
       "      <td>2803-032-008</td>\n",
       "      <td>32185.60</td>\n",
       "      <td>4726.28</td>\n",
       "      <td>2026-09-02</td>\n",
       "      <td>2016-03-03</td>\n",
       "      <td>CAFIRST LA</td>\n",
       "      <td>18906 NEARBROOK ST  SANTA CLARITA CA  91351</td>\n",
       "      <td>91351.0</td>\n",
       "      <td>7</td>\n",
       "      <td>34.416684</td>\n",
       "      <td>-118.465632</td>\n",
       "      <td>(34.41668389, -118.46563184)</td>\n",
       "      <td>1</td>\n",
       "    </tr>\n",
       "    <tr>\n",
       "      <th>2</th>\n",
       "      <td>2803-032-008</td>\n",
       "      <td>28074.74</td>\n",
       "      <td>2939.46</td>\n",
       "      <td>2036-09-02</td>\n",
       "      <td>2016-04-07</td>\n",
       "      <td>CAFIRST LA</td>\n",
       "      <td>18906 NEARBROOK ST  SANTA CLARITA CA  91351</td>\n",
       "      <td>91351.0</td>\n",
       "      <td>7</td>\n",
       "      <td>34.416684</td>\n",
       "      <td>-118.465632</td>\n",
       "      <td>(34.41668389, -118.46563184)</td>\n",
       "      <td>2</td>\n",
       "    </tr>\n",
       "    <tr>\n",
       "      <th>3</th>\n",
       "      <td>2803-032-008</td>\n",
       "      <td>48148.36</td>\n",
       "      <td>4679.68</td>\n",
       "      <td>2041-09-02</td>\n",
       "      <td>2015-11-05</td>\n",
       "      <td>CAFIRST LA</td>\n",
       "      <td>18906 NEARBROOK ST  SANTA CLARITA CA  91351</td>\n",
       "      <td>91351.0</td>\n",
       "      <td>7</td>\n",
       "      <td>34.416684</td>\n",
       "      <td>-118.465632</td>\n",
       "      <td>(34.41668389, -118.46563184)</td>\n",
       "      <td>3</td>\n",
       "    </tr>\n",
       "    <tr>\n",
       "      <th>4</th>\n",
       "      <td>2803-032-008</td>\n",
       "      <td>6827.82</td>\n",
       "      <td>815.20</td>\n",
       "      <td>2031-09-02</td>\n",
       "      <td>2015-12-28</td>\n",
       "      <td>CAFIRST LA</td>\n",
       "      <td>18906 NEARBROOK ST  SANTA CLARITA CA  91351</td>\n",
       "      <td>91351.0</td>\n",
       "      <td>7</td>\n",
       "      <td>34.416684</td>\n",
       "      <td>-118.465632</td>\n",
       "      <td>(34.41668389, -118.46563184)</td>\n",
       "      <td>4</td>\n",
       "    </tr>\n",
       "    <tr>\n",
       "      <th>5</th>\n",
       "      <td>2803-032-008</td>\n",
       "      <td>8656.69</td>\n",
       "      <td>904.78</td>\n",
       "      <td>2035-11-01</td>\n",
       "      <td>2015-09-16</td>\n",
       "      <td>LA HERO</td>\n",
       "      <td>18906 NEARBROOK ST  SANTA CLARITA CA  91351</td>\n",
       "      <td>91351.0</td>\n",
       "      <td>7</td>\n",
       "      <td>34.416684</td>\n",
       "      <td>-118.465632</td>\n",
       "      <td>(34.41668389, -118.46563184)</td>\n",
       "      <td>5</td>\n",
       "    </tr>\n",
       "    <tr>\n",
       "      <th>6</th>\n",
       "      <td>2803-032-008</td>\n",
       "      <td>44664.05</td>\n",
       "      <td>4668.25</td>\n",
       "      <td>2035-11-01</td>\n",
       "      <td>2015-10-28</td>\n",
       "      <td>LA HERO</td>\n",
       "      <td>18906 NEARBROOK ST  SANTA CLARITA CA  91351</td>\n",
       "      <td>91351.0</td>\n",
       "      <td>7</td>\n",
       "      <td>34.416684</td>\n",
       "      <td>-118.465632</td>\n",
       "      <td>(34.41668389, -118.46563184)</td>\n",
       "      <td>6</td>\n",
       "    </tr>\n",
       "    <tr>\n",
       "      <th>7</th>\n",
       "      <td>8218-019-028</td>\n",
       "      <td>10349.16</td>\n",
       "      <td>1081.69</td>\n",
       "      <td>2036-11-01</td>\n",
       "      <td>2016-09-28</td>\n",
       "      <td>LA HERO</td>\n",
       "      <td>1120 STOVALL AVE  HACIENDA HEIGHTS CA  91745</td>\n",
       "      <td>91745.0</td>\n",
       "      <td>7</td>\n",
       "      <td>34.013691</td>\n",
       "      <td>-117.973091</td>\n",
       "      <td>(34.01369074, -117.97309146)</td>\n",
       "      <td>7</td>\n",
       "    </tr>\n",
       "    <tr>\n",
       "      <th>8</th>\n",
       "      <td>8218-019-028</td>\n",
       "      <td>24271.56</td>\n",
       "      <td>2026.68</td>\n",
       "      <td>2036-11-01</td>\n",
       "      <td>2016-11-30</td>\n",
       "      <td>LA HERO</td>\n",
       "      <td>1120 STOVALL AVE  HACIENDA HEIGHTS CA  91745</td>\n",
       "      <td>91745.0</td>\n",
       "      <td>7</td>\n",
       "      <td>34.013691</td>\n",
       "      <td>-117.973091</td>\n",
       "      <td>(34.01369074, -117.97309146)</td>\n",
       "      <td>8</td>\n",
       "    </tr>\n",
       "    <tr>\n",
       "      <th>9</th>\n",
       "      <td>8218-019-028</td>\n",
       "      <td>10136.98</td>\n",
       "      <td>1072.85</td>\n",
       "      <td>2036-09-02</td>\n",
       "      <td>2016-07-14</td>\n",
       "      <td>CAFIRST LA</td>\n",
       "      <td>1120 STOVALL AVE  HACIENDA HEIGHTS CA  91745</td>\n",
       "      <td>91745.0</td>\n",
       "      <td>7</td>\n",
       "      <td>34.013691</td>\n",
       "      <td>-117.973091</td>\n",
       "      <td>(34.01369074, -117.97309146)</td>\n",
       "      <td>9</td>\n",
       "    </tr>\n",
       "  </tbody>\n",
       "</table>\n",
       "</div>"
      ],
      "text/plain": [
       "  Assessor's Parcel Number (APN)  Principal Amount  Annual Assessment Amount  \\\n",
       "0                   2803-032-008          19421.99                   2039.05   \n",
       "1                   2803-032-008          32185.60                   4726.28   \n",
       "2                   2803-032-008          28074.74                   2939.46   \n",
       "3                   2803-032-008          48148.36                   4679.68   \n",
       "4                   2803-032-008           6827.82                    815.20   \n",
       "5                   2803-032-008           8656.69                    904.78   \n",
       "6                   2803-032-008          44664.05                   4668.25   \n",
       "7                   8218-019-028          10349.16                   1081.69   \n",
       "8                   8218-019-028          24271.56                   2026.68   \n",
       "9                   8218-019-028          10136.98                   1072.85   \n",
       "\n",
       "  Maturity Date Origination Date     Program  \\\n",
       "0    2036-09-02       2016-01-21  CAFIRST LA   \n",
       "1    2026-09-02       2016-03-03  CAFIRST LA   \n",
       "2    2036-09-02       2016-04-07  CAFIRST LA   \n",
       "3    2041-09-02       2015-11-05  CAFIRST LA   \n",
       "4    2031-09-02       2015-12-28  CAFIRST LA   \n",
       "5    2035-11-01       2015-09-16     LA HERO   \n",
       "6    2035-11-01       2015-10-28     LA HERO   \n",
       "7    2036-11-01       2016-09-28     LA HERO   \n",
       "8    2036-11-01       2016-11-30     LA HERO   \n",
       "9    2036-09-02       2016-07-14  CAFIRST LA   \n",
       "\n",
       "                                        Address      Zip Count for Property  \\\n",
       "0   18906 NEARBROOK ST  SANTA CLARITA CA  91351  91351.0                  7   \n",
       "1   18906 NEARBROOK ST  SANTA CLARITA CA  91351  91351.0                  7   \n",
       "2   18906 NEARBROOK ST  SANTA CLARITA CA  91351  91351.0                  7   \n",
       "3   18906 NEARBROOK ST  SANTA CLARITA CA  91351  91351.0                  7   \n",
       "4   18906 NEARBROOK ST  SANTA CLARITA CA  91351  91351.0                  7   \n",
       "5   18906 NEARBROOK ST  SANTA CLARITA CA  91351  91351.0                  7   \n",
       "6   18906 NEARBROOK ST  SANTA CLARITA CA  91351  91351.0                  7   \n",
       "7  1120 STOVALL AVE  HACIENDA HEIGHTS CA  91745  91745.0                  7   \n",
       "8  1120 STOVALL AVE  HACIENDA HEIGHTS CA  91745  91745.0                  7   \n",
       "9  1120 STOVALL AVE  HACIENDA HEIGHTS CA  91745  91745.0                  7   \n",
       "\n",
       "    Latitude   Longitude                    Location 1  ID  \n",
       "0  34.416684 -118.465632  (34.41668389, -118.46563184)   0  \n",
       "1  34.416684 -118.465632  (34.41668389, -118.46563184)   1  \n",
       "2  34.416684 -118.465632  (34.41668389, -118.46563184)   2  \n",
       "3  34.416684 -118.465632  (34.41668389, -118.46563184)   3  \n",
       "4  34.416684 -118.465632  (34.41668389, -118.46563184)   4  \n",
       "5  34.416684 -118.465632  (34.41668389, -118.46563184)   5  \n",
       "6  34.416684 -118.465632  (34.41668389, -118.46563184)   6  \n",
       "7  34.013691 -117.973091  (34.01369074, -117.97309146)   7  \n",
       "8  34.013691 -117.973091  (34.01369074, -117.97309146)   8  \n",
       "9  34.013691 -117.973091  (34.01369074, -117.97309146)   9  "
      ]
     },
     "execution_count": 66,
     "metadata": {},
     "output_type": "execute_result"
    }
   ],
   "source": [
    "data.head(10)"
   ]
  },
  {
   "cell_type": "markdown",
   "metadata": {},
   "source": [
    "## Individual data export"
   ]
  },
  {
   "cell_type": "code",
   "execution_count": 72,
   "metadata": {},
   "outputs": [],
   "source": [
    "# data.to_csv('Pace_Individual.csv')"
   ]
  },
  {
   "cell_type": "code",
   "execution_count": 73,
   "metadata": {},
   "outputs": [
    {
     "data": {
      "text/plain": [
       "Assessor's Parcel Number (APN)       4\n",
       "Principal Amount                     4\n",
       "Annual Assessment Amount             4\n",
       "Maturity Date                        4\n",
       "Origination Date                     4\n",
       "Program                              4\n",
       "Address                           2499\n",
       "Zip                               2496\n",
       "Count for Property                   2\n",
       "Latitude                          2616\n",
       "Longitude                         2616\n",
       "Location 1                        2616\n",
       "ID                                   0\n",
       "dtype: int64"
      ]
     },
     "execution_count": 73,
     "metadata": {},
     "output_type": "execute_result"
    }
   ],
   "source": [
    "data.isnull().sum()"
   ]
  },
  {
   "cell_type": "code",
   "execution_count": 67,
   "metadata": {},
   "outputs": [],
   "source": [
    "data ['ID'] = data['ID'].astype('object')"
   ]
  },
  {
   "cell_type": "code",
   "execution_count": 142,
   "metadata": {},
   "outputs": [],
   "source": [
    "# Repeated data points need to be aggregated\n",
    "summed = data.groupby(\"Assessor's Parcel Number (APN)\").sum()\n",
    "\n",
    "summed = summed.reset_index()\n",
    "\n",
    "summed = summed.rename(columns = {'Principal Amount' : 'Total Principal', 'Annual Assessment Amount' : 'Annual Assessment Total'})\n",
    "\n",
    "summed['index'] = summed.index.astype('object')\n",
    "\n",
    "summed = summed[[\"Assessor's Parcel Number (APN)\", 'Total Principal', 'Annual Assessment Total', 'index']]"
   ]
  },
  {
   "cell_type": "code",
   "execution_count": 143,
   "metadata": {
    "scrolled": false
   },
   "outputs": [
    {
     "data": {
      "text/html": [
       "<div>\n",
       "<style scoped>\n",
       "    .dataframe tbody tr th:only-of-type {\n",
       "        vertical-align: middle;\n",
       "    }\n",
       "\n",
       "    .dataframe tbody tr th {\n",
       "        vertical-align: top;\n",
       "    }\n",
       "\n",
       "    .dataframe thead th {\n",
       "        text-align: right;\n",
       "    }\n",
       "</style>\n",
       "<table border=\"1\" class=\"dataframe\">\n",
       "  <thead>\n",
       "    <tr style=\"text-align: right;\">\n",
       "      <th></th>\n",
       "      <th>Assessor's Parcel Number (APN)</th>\n",
       "      <th>Total Principal</th>\n",
       "      <th>Annual Assessment Total</th>\n",
       "      <th>index</th>\n",
       "    </tr>\n",
       "  </thead>\n",
       "  <tbody>\n",
       "    <tr>\n",
       "      <th>0</th>\n",
       "      <td>2004-005-007</td>\n",
       "      <td>26973.84</td>\n",
       "      <td>2819.29</td>\n",
       "      <td>0</td>\n",
       "    </tr>\n",
       "    <tr>\n",
       "      <th>1</th>\n",
       "      <td>2004-006-025</td>\n",
       "      <td>46338.93</td>\n",
       "      <td>4817.84</td>\n",
       "      <td>1</td>\n",
       "    </tr>\n",
       "    <tr>\n",
       "      <th>2</th>\n",
       "      <td>2004-007-013</td>\n",
       "      <td>18072.97</td>\n",
       "      <td>2130.84</td>\n",
       "      <td>2</td>\n",
       "    </tr>\n",
       "    <tr>\n",
       "      <th>3</th>\n",
       "      <td>2004-007-020</td>\n",
       "      <td>85973.15</td>\n",
       "      <td>9010.86</td>\n",
       "      <td>3</td>\n",
       "    </tr>\n",
       "    <tr>\n",
       "      <th>4</th>\n",
       "      <td>2004-009-014</td>\n",
       "      <td>18515.99</td>\n",
       "      <td>1509.06</td>\n",
       "      <td>4</td>\n",
       "    </tr>\n",
       "    <tr>\n",
       "      <th>...</th>\n",
       "      <td>...</td>\n",
       "      <td>...</td>\n",
       "      <td>...</td>\n",
       "      <td>...</td>\n",
       "    </tr>\n",
       "    <tr>\n",
       "      <th>28565</th>\n",
       "      <td>8765-010-033</td>\n",
       "      <td>20950.66</td>\n",
       "      <td>2189.74</td>\n",
       "      <td>28565</td>\n",
       "    </tr>\n",
       "    <tr>\n",
       "      <th>28566</th>\n",
       "      <td>8765-011-031</td>\n",
       "      <td>21310.33</td>\n",
       "      <td>2512.53</td>\n",
       "      <td>28566</td>\n",
       "    </tr>\n",
       "    <tr>\n",
       "      <th>28567</th>\n",
       "      <td>8765-012-004</td>\n",
       "      <td>31091.68</td>\n",
       "      <td>3249.68</td>\n",
       "      <td>28567</td>\n",
       "    </tr>\n",
       "    <tr>\n",
       "      <th>28568</th>\n",
       "      <td>8765-019-002</td>\n",
       "      <td>62447.82</td>\n",
       "      <td>7482.40</td>\n",
       "      <td>28568</td>\n",
       "    </tr>\n",
       "    <tr>\n",
       "      <th>28569</th>\n",
       "      <td>8765-022-042</td>\n",
       "      <td>19038.17</td>\n",
       "      <td>2797.69</td>\n",
       "      <td>28569</td>\n",
       "    </tr>\n",
       "  </tbody>\n",
       "</table>\n",
       "<p>28570 rows × 4 columns</p>\n",
       "</div>"
      ],
      "text/plain": [
       "      Assessor's Parcel Number (APN)  Total Principal  \\\n",
       "0                       2004-005-007         26973.84   \n",
       "1                       2004-006-025         46338.93   \n",
       "2                       2004-007-013         18072.97   \n",
       "3                       2004-007-020         85973.15   \n",
       "4                       2004-009-014         18515.99   \n",
       "...                              ...              ...   \n",
       "28565                   8765-010-033         20950.66   \n",
       "28566                   8765-011-031         21310.33   \n",
       "28567                   8765-012-004         31091.68   \n",
       "28568                   8765-019-002         62447.82   \n",
       "28569                   8765-022-042         19038.17   \n",
       "\n",
       "       Annual Assessment Total  index  \n",
       "0                      2819.29      0  \n",
       "1                      4817.84      1  \n",
       "2                      2130.84      2  \n",
       "3                      9010.86      3  \n",
       "4                      1509.06      4  \n",
       "...                        ...    ...  \n",
       "28565                  2189.74  28565  \n",
       "28566                  2512.53  28566  \n",
       "28567                  3249.68  28567  \n",
       "28568                  7482.40  28568  \n",
       "28569                  2797.69  28569  \n",
       "\n",
       "[28570 rows x 4 columns]"
      ]
     },
     "execution_count": 143,
     "metadata": {},
     "output_type": "execute_result"
    }
   ],
   "source": [
    "summed"
   ]
  },
  {
   "cell_type": "code",
   "execution_count": 70,
   "metadata": {},
   "outputs": [
    {
     "data": {
      "text/plain": [
       "'2004-005-007'"
      ]
     },
     "execution_count": 70,
     "metadata": {},
     "output_type": "execute_result"
    }
   ],
   "source": [
    "summed.iloc[0,0]"
   ]
  },
  {
   "cell_type": "code",
   "execution_count": 71,
   "metadata": {},
   "outputs": [
    {
     "data": {
      "text/html": [
       "<div>\n",
       "<style scoped>\n",
       "    .dataframe tbody tr th:only-of-type {\n",
       "        vertical-align: middle;\n",
       "    }\n",
       "\n",
       "    .dataframe tbody tr th {\n",
       "        vertical-align: top;\n",
       "    }\n",
       "\n",
       "    .dataframe thead th {\n",
       "        text-align: right;\n",
       "    }\n",
       "</style>\n",
       "<table border=\"1\" class=\"dataframe\">\n",
       "  <thead>\n",
       "    <tr style=\"text-align: right;\">\n",
       "      <th></th>\n",
       "      <th>Assessor's Parcel Number (APN)</th>\n",
       "      <th>Principal Amount</th>\n",
       "      <th>Annual Assessment Amount</th>\n",
       "      <th>Zip</th>\n",
       "      <th>Latitude</th>\n",
       "      <th>Longitude</th>\n",
       "    </tr>\n",
       "  </thead>\n",
       "  <tbody>\n",
       "    <tr>\n",
       "      <th>4897</th>\n",
       "      <td>2803-032-008</td>\n",
       "      <td>187979.25</td>\n",
       "      <td>20772.7</td>\n",
       "      <td>639457.0</td>\n",
       "      <td>240.916787</td>\n",
       "      <td>-829.259423</td>\n",
       "    </tr>\n",
       "  </tbody>\n",
       "</table>\n",
       "</div>"
      ],
      "text/plain": [
       "     Assessor's Parcel Number (APN)  Principal Amount  \\\n",
       "4897                   2803-032-008         187979.25   \n",
       "\n",
       "      Annual Assessment Amount       Zip    Latitude   Longitude  \n",
       "4897                   20772.7  639457.0  240.916787 -829.259423  "
      ]
     },
     "execution_count": 71,
     "metadata": {},
     "output_type": "execute_result"
    }
   ],
   "source": [
    "# checked if summation lined up \n",
    "summed[summed[\"Assessor's Parcel Number (APN)\"] == '2803-032-008']"
   ]
  },
  {
   "cell_type": "code",
   "execution_count": 141,
   "metadata": {
    "scrolled": true
   },
   "outputs": [
    {
     "name": "stdout",
     "output_type": "stream",
     "text": [
      "<class 'pandas.core.frame.DataFrame'>\n",
      "RangeIndex: 28570 entries, 0 to 28569\n",
      "Data columns (total 4 columns):\n",
      " #   Column                          Non-Null Count  Dtype  \n",
      "---  ------                          --------------  -----  \n",
      " 0   Assessor's Parcel Number (APN)  28570 non-null  object \n",
      " 1   Total Principal                 28570 non-null  float64\n",
      " 2   Annual Assessment Total         28570 non-null  float64\n",
      " 3   index                           28570 non-null  int64  \n",
      "dtypes: float64(2), int64(1), object(1)\n",
      "memory usage: 892.9+ KB\n"
     ]
    }
   ],
   "source": [
    "summed.info()"
   ]
  },
  {
   "cell_type": "code",
   "execution_count": null,
   "metadata": {},
   "outputs": [],
   "source": [
    "# adding aggregates to main dataset and dropping duplicates\n",
    "data_grouped = data.merge(summed, how = 'left', left_on = \"Assessor's Parcel Number (APN)\", right_on = \"Assessor's Parcel Number (APN)\")\n",
    "\n",
    "data_grouped = data_grouped.drop_duplicates(subset=\"Assessor's Parcel Number (APN)\").sort_values('index').reindex()"
   ]
  },
  {
   "cell_type": "code",
   "execution_count": 155,
   "metadata": {
    "scrolled": true
   },
   "outputs": [
    {
     "data": {
      "text/plain": [
       "28571"
      ]
     },
     "execution_count": 155,
     "metadata": {},
     "output_type": "execute_result"
    }
   ],
   "source": [
    "len(data_grouped)"
   ]
  },
  {
   "cell_type": "code",
   "execution_count": 162,
   "metadata": {},
   "outputs": [],
   "source": [
    "# dropping non aggregate columns\n",
    "non_group_columns = ['Principal Amount', 'Annual Assessment Amount', 'Origination Date', 'ID', 'Address']\n",
    "\n",
    "data_grouped_confidential = data_grouped.drop(non_group_columns, axis = 1)"
   ]
  },
  {
   "cell_type": "markdown",
   "metadata": {},
   "source": [
    "## Grouped Data Export"
   ]
  },
  {
   "cell_type": "code",
   "execution_count": 165,
   "metadata": {},
   "outputs": [],
   "source": [
    "# data_grouped_confidential.to_csv('PACE_aggregate.csv')"
   ]
  },
  {
   "cell_type": "markdown",
   "metadata": {},
   "source": [
    "# Population Data\n",
    "### After talking to a census data specialist I acquired demographic data to detail my visualization. Here I import the data and prepare it for visualization."
   ]
  },
  {
   "cell_type": "code",
   "execution_count": 20,
   "metadata": {},
   "outputs": [],
   "source": [
    "import regex as re"
   ]
  },
  {
   "cell_type": "code",
   "execution_count": 21,
   "metadata": {},
   "outputs": [],
   "source": [
    "black_pop = pd.read_csv('la_black_pop.csv')"
   ]
  },
  {
   "cell_type": "code",
   "execution_count": 22,
   "metadata": {
    "scrolled": false
   },
   "outputs": [
    {
     "data": {
      "text/html": [
       "<div>\n",
       "<style scoped>\n",
       "    .dataframe tbody tr th:only-of-type {\n",
       "        vertical-align: middle;\n",
       "    }\n",
       "\n",
       "    .dataframe tbody tr th {\n",
       "        vertical-align: top;\n",
       "    }\n",
       "\n",
       "    .dataframe thead th {\n",
       "        text-align: right;\n",
       "    }\n",
       "</style>\n",
       "<table border=\"1\" class=\"dataframe\">\n",
       "  <thead>\n",
       "    <tr style=\"text-align: right;\">\n",
       "      <th></th>\n",
       "      <th>Label (Grouping)</th>\n",
       "      <th>ZCTA5 90001!!Estimate</th>\n",
       "      <th>ZCTA5 90001!!Margin of Error</th>\n",
       "      <th>ZCTA5 90002!!Estimate</th>\n",
       "      <th>ZCTA5 90002!!Margin of Error</th>\n",
       "      <th>ZCTA5 90003!!Estimate</th>\n",
       "      <th>ZCTA5 90003!!Margin of Error</th>\n",
       "      <th>ZCTA5 90004!!Estimate</th>\n",
       "      <th>ZCTA5 90004!!Margin of Error</th>\n",
       "      <th>ZCTA5 90005!!Estimate</th>\n",
       "      <th>...</th>\n",
       "      <th>ZCTA5 93552!!Estimate</th>\n",
       "      <th>ZCTA5 93552!!Margin of Error</th>\n",
       "      <th>ZCTA5 93553!!Estimate</th>\n",
       "      <th>ZCTA5 93553!!Margin of Error</th>\n",
       "      <th>ZCTA5 93560!!Estimate</th>\n",
       "      <th>ZCTA5 93560!!Margin of Error</th>\n",
       "      <th>ZCTA5 93563!!Estimate</th>\n",
       "      <th>ZCTA5 93563!!Margin of Error</th>\n",
       "      <th>ZCTA5 93591!!Estimate</th>\n",
       "      <th>ZCTA5 93591!!Margin of Error</th>\n",
       "    </tr>\n",
       "  </thead>\n",
       "  <tbody>\n",
       "    <tr>\n",
       "      <th>0</th>\n",
       "      <td>Total:</td>\n",
       "      <td>5,338</td>\n",
       "      <td>±727</td>\n",
       "      <td>10,081</td>\n",
       "      <td>±1,012</td>\n",
       "      <td>15,245</td>\n",
       "      <td>±1,187</td>\n",
       "      <td>2,188</td>\n",
       "      <td>±348</td>\n",
       "      <td>2,290</td>\n",
       "      <td>...</td>\n",
       "      <td>4,844</td>\n",
       "      <td>±922</td>\n",
       "      <td>18</td>\n",
       "      <td>±26</td>\n",
       "      <td>1,828</td>\n",
       "      <td>±699</td>\n",
       "      <td>38</td>\n",
       "      <td>±28</td>\n",
       "      <td>544</td>\n",
       "      <td>±253</td>\n",
       "    </tr>\n",
       "    <tr>\n",
       "      <th>1</th>\n",
       "      <td>Male:</td>\n",
       "      <td>2,636</td>\n",
       "      <td>±419</td>\n",
       "      <td>4,080</td>\n",
       "      <td>±538</td>\n",
       "      <td>6,749</td>\n",
       "      <td>±753</td>\n",
       "      <td>1,272</td>\n",
       "      <td>±249</td>\n",
       "      <td>948</td>\n",
       "      <td>...</td>\n",
       "      <td>2,415</td>\n",
       "      <td>±480</td>\n",
       "      <td>9</td>\n",
       "      <td>±13</td>\n",
       "      <td>761</td>\n",
       "      <td>±272</td>\n",
       "      <td>38</td>\n",
       "      <td>±28</td>\n",
       "      <td>265</td>\n",
       "      <td>±111</td>\n",
       "    </tr>\n",
       "    <tr>\n",
       "      <th>2</th>\n",
       "      <td>Under 5 years</td>\n",
       "      <td>112</td>\n",
       "      <td>±78</td>\n",
       "      <td>390</td>\n",
       "      <td>±154</td>\n",
       "      <td>720</td>\n",
       "      <td>±264</td>\n",
       "      <td>0</td>\n",
       "      <td>±29</td>\n",
       "      <td>86</td>\n",
       "      <td>...</td>\n",
       "      <td>280</td>\n",
       "      <td>±145</td>\n",
       "      <td>0</td>\n",
       "      <td>±12</td>\n",
       "      <td>89</td>\n",
       "      <td>±119</td>\n",
       "      <td>0</td>\n",
       "      <td>±12</td>\n",
       "      <td>0</td>\n",
       "      <td>±17</td>\n",
       "    </tr>\n",
       "    <tr>\n",
       "      <th>3</th>\n",
       "      <td>5 to 9 years</td>\n",
       "      <td>176</td>\n",
       "      <td>±92</td>\n",
       "      <td>192</td>\n",
       "      <td>±118</td>\n",
       "      <td>393</td>\n",
       "      <td>±148</td>\n",
       "      <td>0</td>\n",
       "      <td>±29</td>\n",
       "      <td>8</td>\n",
       "      <td>...</td>\n",
       "      <td>153</td>\n",
       "      <td>±82</td>\n",
       "      <td>0</td>\n",
       "      <td>±12</td>\n",
       "      <td>88</td>\n",
       "      <td>±101</td>\n",
       "      <td>0</td>\n",
       "      <td>±12</td>\n",
       "      <td>0</td>\n",
       "      <td>±17</td>\n",
       "    </tr>\n",
       "    <tr>\n",
       "      <th>4</th>\n",
       "      <td>10 to 14 years</td>\n",
       "      <td>171</td>\n",
       "      <td>±109</td>\n",
       "      <td>293</td>\n",
       "      <td>±126</td>\n",
       "      <td>556</td>\n",
       "      <td>±207</td>\n",
       "      <td>42</td>\n",
       "      <td>±53</td>\n",
       "      <td>0</td>\n",
       "      <td>...</td>\n",
       "      <td>61</td>\n",
       "      <td>±39</td>\n",
       "      <td>0</td>\n",
       "      <td>±12</td>\n",
       "      <td>57</td>\n",
       "      <td>±79</td>\n",
       "      <td>0</td>\n",
       "      <td>±12</td>\n",
       "      <td>0</td>\n",
       "      <td>±17</td>\n",
       "    </tr>\n",
       "  </tbody>\n",
       "</table>\n",
       "<p>5 rows × 605 columns</p>\n",
       "</div>"
      ],
      "text/plain": [
       "         Label (Grouping) ZCTA5 90001!!Estimate ZCTA5 90001!!Margin of Error  \\\n",
       "0                  Total:                 5,338                         ±727   \n",
       "1                   Male:                 2,636                         ±419   \n",
       "2           Under 5 years                   112                          ±78   \n",
       "3            5 to 9 years                   176                          ±92   \n",
       "4          10 to 14 years                   171                         ±109   \n",
       "\n",
       "  ZCTA5 90002!!Estimate ZCTA5 90002!!Margin of Error ZCTA5 90003!!Estimate  \\\n",
       "0                10,081                       ±1,012                15,245   \n",
       "1                 4,080                         ±538                 6,749   \n",
       "2                   390                         ±154                   720   \n",
       "3                   192                         ±118                   393   \n",
       "4                   293                         ±126                   556   \n",
       "\n",
       "  ZCTA5 90003!!Margin of Error ZCTA5 90004!!Estimate  \\\n",
       "0                       ±1,187                 2,188   \n",
       "1                         ±753                 1,272   \n",
       "2                         ±264                     0   \n",
       "3                         ±148                     0   \n",
       "4                         ±207                    42   \n",
       "\n",
       "  ZCTA5 90004!!Margin of Error ZCTA5 90005!!Estimate  ...  \\\n",
       "0                         ±348                 2,290  ...   \n",
       "1                         ±249                   948  ...   \n",
       "2                          ±29                    86  ...   \n",
       "3                          ±29                     8  ...   \n",
       "4                          ±53                     0  ...   \n",
       "\n",
       "  ZCTA5 93552!!Estimate ZCTA5 93552!!Margin of Error ZCTA5 93553!!Estimate  \\\n",
       "0                 4,844                         ±922                    18   \n",
       "1                 2,415                         ±480                     9   \n",
       "2                   280                         ±145                     0   \n",
       "3                   153                          ±82                     0   \n",
       "4                    61                          ±39                     0   \n",
       "\n",
       "  ZCTA5 93553!!Margin of Error ZCTA5 93560!!Estimate  \\\n",
       "0                          ±26                 1,828   \n",
       "1                          ±13                   761   \n",
       "2                          ±12                    89   \n",
       "3                          ±12                    88   \n",
       "4                          ±12                    57   \n",
       "\n",
       "  ZCTA5 93560!!Margin of Error ZCTA5 93563!!Estimate  \\\n",
       "0                         ±699                    38   \n",
       "1                         ±272                    38   \n",
       "2                         ±119                     0   \n",
       "3                         ±101                     0   \n",
       "4                          ±79                     0   \n",
       "\n",
       "   ZCTA5 93563!!Margin of Error ZCTA5 93591!!Estimate  \\\n",
       "0                           ±28                   544   \n",
       "1                           ±28                   265   \n",
       "2                           ±12                     0   \n",
       "3                           ±12                     0   \n",
       "4                           ±12                     0   \n",
       "\n",
       "  ZCTA5 93591!!Margin of Error  \n",
       "0                         ±253  \n",
       "1                         ±111  \n",
       "2                          ±17  \n",
       "3                          ±17  \n",
       "4                          ±17  \n",
       "\n",
       "[5 rows x 605 columns]"
      ]
     },
     "execution_count": 22,
     "metadata": {},
     "output_type": "execute_result"
    }
   ],
   "source": [
    "black_pop.head()"
   ]
  },
  {
   "cell_type": "code",
   "execution_count": 23,
   "metadata": {},
   "outputs": [],
   "source": [
    "# Reorganizing the index and dropping extra columns/rows\n",
    "black_totals = black_pop[black_pop['Label (Grouping)'] == 'Total:'].T.reset_index().iloc[1:,:]\n",
    "\n",
    "black_totals.columns = ['subgroup_info', 'black_population']\n",
    "\n",
    "# removing rows with margin of error calculations\n",
    "black_totals = black_totals[black_totals['subgroup_info'].str.contains('Estimate')]"
   ]
  },
  {
   "cell_type": "code",
   "execution_count": 26,
   "metadata": {
    "scrolled": true
   },
   "outputs": [
    {
     "data": {
      "text/plain": [
       "1      ZCTA5 90001!!Estimate\n",
       "3      ZCTA5 90002!!Estimate\n",
       "5      ZCTA5 90003!!Estimate\n",
       "7      ZCTA5 90004!!Estimate\n",
       "9      ZCTA5 90005!!Estimate\n",
       "               ...          \n",
       "595    ZCTA5 93552!!Estimate\n",
       "597    ZCTA5 93553!!Estimate\n",
       "599    ZCTA5 93560!!Estimate\n",
       "601    ZCTA5 93563!!Estimate\n",
       "603    ZCTA5 93591!!Estimate\n",
       "Name: subgroup_info, Length: 302, dtype: object"
      ]
     },
     "execution_count": 26,
     "metadata": {},
     "output_type": "execute_result"
    }
   ],
   "source": [
    "black_totals['subgroup_info']"
   ]
  },
  {
   "cell_type": "code",
   "execution_count": 28,
   "metadata": {
    "scrolled": false
   },
   "outputs": [],
   "source": [
    "# Grabs the zipcodes from each string object in a list\n",
    "# [(lambda a: re.findall(r'[0-9]{5}', a))(z)[0] for z in zip_codes[1:]]"
   ]
  },
  {
   "cell_type": "code",
   "execution_count": 29,
   "metadata": {
    "scrolled": true
   },
   "outputs": [],
   "source": [
    "# filtered out zipcodes from string\n",
    "black_zct = [(lambda a: re.findall(r'[0-9]{5}', a))(z)[0] for z in black_totals['subgroup_info']]"
   ]
  },
  {
   "cell_type": "code",
   "execution_count": 30,
   "metadata": {
    "scrolled": true
   },
   "outputs": [
    {
     "name": "stdout",
     "output_type": "stream",
     "text": [
      "302 302\n"
     ]
    }
   ],
   "source": [
    "# check length\n",
    "print(len(black_totals['subgroup_info']),len(black_zct))"
   ]
  },
  {
   "cell_type": "code",
   "execution_count": 31,
   "metadata": {
    "scrolled": true
   },
   "outputs": [],
   "source": [
    "# replace string with only zipcode as numeric type\n",
    "black_totals['zipcode'] = black_zct\n",
    "\n",
    "black_totals['zipcode'] = black_totals['zipcode'].astype('float')\n",
    "\n",
    "black_totals = black_totals.drop('subgroup_info', axis = 1)"
   ]
  },
  {
   "cell_type": "code",
   "execution_count": 34,
   "metadata": {
    "scrolled": true
   },
   "outputs": [
    {
     "data": {
      "text/html": [
       "<div>\n",
       "<style scoped>\n",
       "    .dataframe tbody tr th:only-of-type {\n",
       "        vertical-align: middle;\n",
       "    }\n",
       "\n",
       "    .dataframe tbody tr th {\n",
       "        vertical-align: top;\n",
       "    }\n",
       "\n",
       "    .dataframe thead th {\n",
       "        text-align: right;\n",
       "    }\n",
       "</style>\n",
       "<table border=\"1\" class=\"dataframe\">\n",
       "  <thead>\n",
       "    <tr style=\"text-align: right;\">\n",
       "      <th></th>\n",
       "      <th>black_population</th>\n",
       "      <th>zipcode</th>\n",
       "    </tr>\n",
       "  </thead>\n",
       "  <tbody>\n",
       "    <tr>\n",
       "      <th>1</th>\n",
       "      <td>5,338</td>\n",
       "      <td>90001.0</td>\n",
       "    </tr>\n",
       "    <tr>\n",
       "      <th>3</th>\n",
       "      <td>10,081</td>\n",
       "      <td>90002.0</td>\n",
       "    </tr>\n",
       "    <tr>\n",
       "      <th>5</th>\n",
       "      <td>15,245</td>\n",
       "      <td>90003.0</td>\n",
       "    </tr>\n",
       "    <tr>\n",
       "      <th>7</th>\n",
       "      <td>2,188</td>\n",
       "      <td>90004.0</td>\n",
       "    </tr>\n",
       "    <tr>\n",
       "      <th>9</th>\n",
       "      <td>2,290</td>\n",
       "      <td>90005.0</td>\n",
       "    </tr>\n",
       "    <tr>\n",
       "      <th>...</th>\n",
       "      <td>...</td>\n",
       "      <td>...</td>\n",
       "    </tr>\n",
       "    <tr>\n",
       "      <th>595</th>\n",
       "      <td>4,844</td>\n",
       "      <td>93552.0</td>\n",
       "    </tr>\n",
       "    <tr>\n",
       "      <th>597</th>\n",
       "      <td>18</td>\n",
       "      <td>93553.0</td>\n",
       "    </tr>\n",
       "    <tr>\n",
       "      <th>599</th>\n",
       "      <td>1,828</td>\n",
       "      <td>93560.0</td>\n",
       "    </tr>\n",
       "    <tr>\n",
       "      <th>601</th>\n",
       "      <td>38</td>\n",
       "      <td>93563.0</td>\n",
       "    </tr>\n",
       "    <tr>\n",
       "      <th>603</th>\n",
       "      <td>544</td>\n",
       "      <td>93591.0</td>\n",
       "    </tr>\n",
       "  </tbody>\n",
       "</table>\n",
       "<p>302 rows × 2 columns</p>\n",
       "</div>"
      ],
      "text/plain": [
       "    black_population  zipcode\n",
       "1              5,338  90001.0\n",
       "3             10,081  90002.0\n",
       "5             15,245  90003.0\n",
       "7              2,188  90004.0\n",
       "9              2,290  90005.0\n",
       "..               ...      ...\n",
       "595            4,844  93552.0\n",
       "597               18  93553.0\n",
       "599            1,828  93560.0\n",
       "601               38  93563.0\n",
       "603              544  93591.0\n",
       "\n",
       "[302 rows x 2 columns]"
      ]
     },
     "execution_count": 34,
     "metadata": {},
     "output_type": "execute_result"
    }
   ],
   "source": [
    "black_totals"
   ]
  },
  {
   "cell_type": "markdown",
   "metadata": {},
   "source": [
    "## Repeat process with hispanic data"
   ]
  },
  {
   "cell_type": "code",
   "execution_count": 35,
   "metadata": {},
   "outputs": [],
   "source": [
    "hispanic_pop = pd.read_csv('la_hispanic_pop.csv')"
   ]
  },
  {
   "cell_type": "code",
   "execution_count": 36,
   "metadata": {
    "scrolled": false
   },
   "outputs": [
    {
     "data": {
      "text/html": [
       "<div>\n",
       "<style scoped>\n",
       "    .dataframe tbody tr th:only-of-type {\n",
       "        vertical-align: middle;\n",
       "    }\n",
       "\n",
       "    .dataframe tbody tr th {\n",
       "        vertical-align: top;\n",
       "    }\n",
       "\n",
       "    .dataframe thead th {\n",
       "        text-align: right;\n",
       "    }\n",
       "</style>\n",
       "<table border=\"1\" class=\"dataframe\">\n",
       "  <thead>\n",
       "    <tr style=\"text-align: right;\">\n",
       "      <th></th>\n",
       "      <th>Label (Grouping)</th>\n",
       "      <th>ZCTA5 90001!!Estimate</th>\n",
       "      <th>ZCTA5 90001!!Margin of Error</th>\n",
       "      <th>ZCTA5 90002!!Estimate</th>\n",
       "      <th>ZCTA5 90002!!Margin of Error</th>\n",
       "      <th>ZCTA5 90003!!Estimate</th>\n",
       "      <th>ZCTA5 90003!!Margin of Error</th>\n",
       "      <th>ZCTA5 90004!!Estimate</th>\n",
       "      <th>ZCTA5 90004!!Margin of Error</th>\n",
       "      <th>ZCTA5 90005!!Estimate</th>\n",
       "      <th>...</th>\n",
       "      <th>ZCTA5 93552!!Estimate</th>\n",
       "      <th>ZCTA5 93552!!Margin of Error</th>\n",
       "      <th>ZCTA5 93553!!Estimate</th>\n",
       "      <th>ZCTA5 93553!!Margin of Error</th>\n",
       "      <th>ZCTA5 93560!!Estimate</th>\n",
       "      <th>ZCTA5 93560!!Margin of Error</th>\n",
       "      <th>ZCTA5 93563!!Estimate</th>\n",
       "      <th>ZCTA5 93563!!Margin of Error</th>\n",
       "      <th>ZCTA5 93591!!Estimate</th>\n",
       "      <th>ZCTA5 93591!!Margin of Error</th>\n",
       "    </tr>\n",
       "  </thead>\n",
       "  <tbody>\n",
       "    <tr>\n",
       "      <th>0</th>\n",
       "      <td>Total:</td>\n",
       "      <td>53,929</td>\n",
       "      <td>±1,790</td>\n",
       "      <td>42,048</td>\n",
       "      <td>±2,117</td>\n",
       "      <td>57,766</td>\n",
       "      <td>±2,208</td>\n",
       "      <td>30,446</td>\n",
       "      <td>±1,622</td>\n",
       "      <td>19,660</td>\n",
       "      <td>...</td>\n",
       "      <td>28,313</td>\n",
       "      <td>±1,306</td>\n",
       "      <td>727</td>\n",
       "      <td>±307</td>\n",
       "      <td>9,205</td>\n",
       "      <td>±1,032</td>\n",
       "      <td>59</td>\n",
       "      <td>±29</td>\n",
       "      <td>4,227</td>\n",
       "      <td>±733</td>\n",
       "    </tr>\n",
       "    <tr>\n",
       "      <th>1</th>\n",
       "      <td>Male:</td>\n",
       "      <td>28,044</td>\n",
       "      <td>±1,160</td>\n",
       "      <td>20,826</td>\n",
       "      <td>±1,178</td>\n",
       "      <td>29,099</td>\n",
       "      <td>±1,326</td>\n",
       "      <td>14,870</td>\n",
       "      <td>±1,031</td>\n",
       "      <td>10,427</td>\n",
       "      <td>...</td>\n",
       "      <td>14,796</td>\n",
       "      <td>±938</td>\n",
       "      <td>307</td>\n",
       "      <td>±165</td>\n",
       "      <td>4,889</td>\n",
       "      <td>±663</td>\n",
       "      <td>51</td>\n",
       "      <td>±27</td>\n",
       "      <td>1,844</td>\n",
       "      <td>±367</td>\n",
       "    </tr>\n",
       "    <tr>\n",
       "      <th>2</th>\n",
       "      <td>Under 5 years</td>\n",
       "      <td>2,378</td>\n",
       "      <td>±364</td>\n",
       "      <td>2,006</td>\n",
       "      <td>±386</td>\n",
       "      <td>2,703</td>\n",
       "      <td>±324</td>\n",
       "      <td>1,066</td>\n",
       "      <td>±311</td>\n",
       "      <td>777</td>\n",
       "      <td>...</td>\n",
       "      <td>1,169</td>\n",
       "      <td>±301</td>\n",
       "      <td>0</td>\n",
       "      <td>±12</td>\n",
       "      <td>171</td>\n",
       "      <td>±134</td>\n",
       "      <td>0</td>\n",
       "      <td>±12</td>\n",
       "      <td>127</td>\n",
       "      <td>±93</td>\n",
       "    </tr>\n",
       "    <tr>\n",
       "      <th>3</th>\n",
       "      <td>5 to 9 years</td>\n",
       "      <td>2,921</td>\n",
       "      <td>±356</td>\n",
       "      <td>2,133</td>\n",
       "      <td>±362</td>\n",
       "      <td>2,829</td>\n",
       "      <td>±375</td>\n",
       "      <td>1,022</td>\n",
       "      <td>±230</td>\n",
       "      <td>922</td>\n",
       "      <td>...</td>\n",
       "      <td>1,499</td>\n",
       "      <td>±296</td>\n",
       "      <td>57</td>\n",
       "      <td>±34</td>\n",
       "      <td>612</td>\n",
       "      <td>±294</td>\n",
       "      <td>0</td>\n",
       "      <td>±12</td>\n",
       "      <td>186</td>\n",
       "      <td>±113</td>\n",
       "    </tr>\n",
       "    <tr>\n",
       "      <th>4</th>\n",
       "      <td>10 to 14 years</td>\n",
       "      <td>2,679</td>\n",
       "      <td>±348</td>\n",
       "      <td>2,021</td>\n",
       "      <td>±349</td>\n",
       "      <td>2,946</td>\n",
       "      <td>±365</td>\n",
       "      <td>873</td>\n",
       "      <td>±222</td>\n",
       "      <td>728</td>\n",
       "      <td>...</td>\n",
       "      <td>1,877</td>\n",
       "      <td>±330</td>\n",
       "      <td>94</td>\n",
       "      <td>±70</td>\n",
       "      <td>553</td>\n",
       "      <td>±225</td>\n",
       "      <td>0</td>\n",
       "      <td>±12</td>\n",
       "      <td>151</td>\n",
       "      <td>±89</td>\n",
       "    </tr>\n",
       "  </tbody>\n",
       "</table>\n",
       "<p>5 rows × 605 columns</p>\n",
       "</div>"
      ],
      "text/plain": [
       "         Label (Grouping) ZCTA5 90001!!Estimate ZCTA5 90001!!Margin of Error  \\\n",
       "0                  Total:                53,929                       ±1,790   \n",
       "1                   Male:                28,044                       ±1,160   \n",
       "2           Under 5 years                 2,378                         ±364   \n",
       "3            5 to 9 years                 2,921                         ±356   \n",
       "4          10 to 14 years                 2,679                         ±348   \n",
       "\n",
       "  ZCTA5 90002!!Estimate ZCTA5 90002!!Margin of Error ZCTA5 90003!!Estimate  \\\n",
       "0                42,048                       ±2,117                57,766   \n",
       "1                20,826                       ±1,178                29,099   \n",
       "2                 2,006                         ±386                 2,703   \n",
       "3                 2,133                         ±362                 2,829   \n",
       "4                 2,021                         ±349                 2,946   \n",
       "\n",
       "  ZCTA5 90003!!Margin of Error ZCTA5 90004!!Estimate  \\\n",
       "0                       ±2,208                30,446   \n",
       "1                       ±1,326                14,870   \n",
       "2                         ±324                 1,066   \n",
       "3                         ±375                 1,022   \n",
       "4                         ±365                   873   \n",
       "\n",
       "  ZCTA5 90004!!Margin of Error ZCTA5 90005!!Estimate  ...  \\\n",
       "0                       ±1,622                19,660  ...   \n",
       "1                       ±1,031                10,427  ...   \n",
       "2                         ±311                   777  ...   \n",
       "3                         ±230                   922  ...   \n",
       "4                         ±222                   728  ...   \n",
       "\n",
       "  ZCTA5 93552!!Estimate ZCTA5 93552!!Margin of Error ZCTA5 93553!!Estimate  \\\n",
       "0                28,313                       ±1,306                   727   \n",
       "1                14,796                         ±938                   307   \n",
       "2                 1,169                         ±301                     0   \n",
       "3                 1,499                         ±296                    57   \n",
       "4                 1,877                         ±330                    94   \n",
       "\n",
       "  ZCTA5 93553!!Margin of Error ZCTA5 93560!!Estimate  \\\n",
       "0                         ±307                 9,205   \n",
       "1                         ±165                 4,889   \n",
       "2                          ±12                   171   \n",
       "3                          ±34                   612   \n",
       "4                          ±70                   553   \n",
       "\n",
       "  ZCTA5 93560!!Margin of Error ZCTA5 93563!!Estimate  \\\n",
       "0                       ±1,032                    59   \n",
       "1                         ±663                    51   \n",
       "2                         ±134                     0   \n",
       "3                         ±294                     0   \n",
       "4                         ±225                     0   \n",
       "\n",
       "   ZCTA5 93563!!Margin of Error ZCTA5 93591!!Estimate  \\\n",
       "0                           ±29                 4,227   \n",
       "1                           ±27                 1,844   \n",
       "2                           ±12                   127   \n",
       "3                           ±12                   186   \n",
       "4                           ±12                   151   \n",
       "\n",
       "  ZCTA5 93591!!Margin of Error  \n",
       "0                         ±733  \n",
       "1                         ±367  \n",
       "2                          ±93  \n",
       "3                         ±113  \n",
       "4                          ±89  \n",
       "\n",
       "[5 rows x 605 columns]"
      ]
     },
     "execution_count": 36,
     "metadata": {},
     "output_type": "execute_result"
    }
   ],
   "source": [
    "hispanic_pop.head()"
   ]
  },
  {
   "cell_type": "code",
   "execution_count": 37,
   "metadata": {},
   "outputs": [],
   "source": [
    "hispanic_totals = hispanic_pop[hispanic_pop['Label (Grouping)'] == 'Total:'].T.reset_index().iloc[1:,:]"
   ]
  },
  {
   "cell_type": "code",
   "execution_count": 38,
   "metadata": {
    "scrolled": true
   },
   "outputs": [],
   "source": [
    "hispanic_totals.columns = ['subgroup_info', 'hispanic_population']"
   ]
  },
  {
   "cell_type": "code",
   "execution_count": 39,
   "metadata": {
    "scrolled": true
   },
   "outputs": [],
   "source": [
    "hispanic_totals = hispanic_totals[hispanic_totals['subgroup_info'].str.contains('Estimate')]"
   ]
  },
  {
   "cell_type": "code",
   "execution_count": 40,
   "metadata": {
    "scrolled": true
   },
   "outputs": [
    {
     "data": {
      "text/plain": [
       "1      ZCTA5 90001!!Estimate\n",
       "3      ZCTA5 90002!!Estimate\n",
       "5      ZCTA5 90003!!Estimate\n",
       "7      ZCTA5 90004!!Estimate\n",
       "9      ZCTA5 90005!!Estimate\n",
       "               ...          \n",
       "595    ZCTA5 93552!!Estimate\n",
       "597    ZCTA5 93553!!Estimate\n",
       "599    ZCTA5 93560!!Estimate\n",
       "601    ZCTA5 93563!!Estimate\n",
       "603    ZCTA5 93591!!Estimate\n",
       "Name: subgroup_info, Length: 302, dtype: object"
      ]
     },
     "execution_count": 40,
     "metadata": {},
     "output_type": "execute_result"
    }
   ],
   "source": [
    "hispanic_totals['subgroup_info']"
   ]
  },
  {
   "cell_type": "code",
   "execution_count": 41,
   "metadata": {
    "scrolled": false
   },
   "outputs": [],
   "source": [
    "# Grabs the zipcodes from each string object in a list\n",
    "# [(lambda a: re.findall(r'[0-9]{5}', a))(z)[0] for z in zip_codes[1:]]"
   ]
  },
  {
   "cell_type": "code",
   "execution_count": 42,
   "metadata": {
    "scrolled": true
   },
   "outputs": [],
   "source": [
    "hispanic_zct = [(lambda a: re.findall(r'[0-9]{5}', a))(z)[0] for z in hispanic_totals['subgroup_info']]"
   ]
  },
  {
   "cell_type": "code",
   "execution_count": 43,
   "metadata": {
    "scrolled": true
   },
   "outputs": [
    {
     "name": "stdout",
     "output_type": "stream",
     "text": [
      "302 302\n"
     ]
    }
   ],
   "source": [
    "# check length\n",
    "print(len(hispanic_totals['subgroup_info']),len(hispanic_zct))"
   ]
  },
  {
   "cell_type": "code",
   "execution_count": 44,
   "metadata": {
    "scrolled": true
   },
   "outputs": [],
   "source": [
    "hispanic_totals['zipcode'] = hispanic_zct"
   ]
  },
  {
   "cell_type": "code",
   "execution_count": 45,
   "metadata": {},
   "outputs": [],
   "source": [
    "hispanic_totals['zipcode'] = hispanic_totals['zipcode'].astype('float')"
   ]
  },
  {
   "cell_type": "code",
   "execution_count": 46,
   "metadata": {},
   "outputs": [],
   "source": [
    "hispanic_totals = hispanic_totals.drop('subgroup_info', axis = 1)"
   ]
  },
  {
   "cell_type": "code",
   "execution_count": 47,
   "metadata": {},
   "outputs": [
    {
     "data": {
      "text/html": [
       "<div>\n",
       "<style scoped>\n",
       "    .dataframe tbody tr th:only-of-type {\n",
       "        vertical-align: middle;\n",
       "    }\n",
       "\n",
       "    .dataframe tbody tr th {\n",
       "        vertical-align: top;\n",
       "    }\n",
       "\n",
       "    .dataframe thead th {\n",
       "        text-align: right;\n",
       "    }\n",
       "</style>\n",
       "<table border=\"1\" class=\"dataframe\">\n",
       "  <thead>\n",
       "    <tr style=\"text-align: right;\">\n",
       "      <th></th>\n",
       "      <th>hispanic_population</th>\n",
       "      <th>zipcode</th>\n",
       "    </tr>\n",
       "  </thead>\n",
       "  <tbody>\n",
       "    <tr>\n",
       "      <th>1</th>\n",
       "      <td>53,929</td>\n",
       "      <td>90001.0</td>\n",
       "    </tr>\n",
       "    <tr>\n",
       "      <th>3</th>\n",
       "      <td>42,048</td>\n",
       "      <td>90002.0</td>\n",
       "    </tr>\n",
       "    <tr>\n",
       "      <th>5</th>\n",
       "      <td>57,766</td>\n",
       "      <td>90003.0</td>\n",
       "    </tr>\n",
       "    <tr>\n",
       "      <th>7</th>\n",
       "      <td>30,446</td>\n",
       "      <td>90004.0</td>\n",
       "    </tr>\n",
       "    <tr>\n",
       "      <th>9</th>\n",
       "      <td>19,660</td>\n",
       "      <td>90005.0</td>\n",
       "    </tr>\n",
       "    <tr>\n",
       "      <th>...</th>\n",
       "      <td>...</td>\n",
       "      <td>...</td>\n",
       "    </tr>\n",
       "    <tr>\n",
       "      <th>595</th>\n",
       "      <td>28,313</td>\n",
       "      <td>93552.0</td>\n",
       "    </tr>\n",
       "    <tr>\n",
       "      <th>597</th>\n",
       "      <td>727</td>\n",
       "      <td>93553.0</td>\n",
       "    </tr>\n",
       "    <tr>\n",
       "      <th>599</th>\n",
       "      <td>9,205</td>\n",
       "      <td>93560.0</td>\n",
       "    </tr>\n",
       "    <tr>\n",
       "      <th>601</th>\n",
       "      <td>59</td>\n",
       "      <td>93563.0</td>\n",
       "    </tr>\n",
       "    <tr>\n",
       "      <th>603</th>\n",
       "      <td>4,227</td>\n",
       "      <td>93591.0</td>\n",
       "    </tr>\n",
       "  </tbody>\n",
       "</table>\n",
       "<p>302 rows × 2 columns</p>\n",
       "</div>"
      ],
      "text/plain": [
       "    hispanic_population  zipcode\n",
       "1                53,929  90001.0\n",
       "3                42,048  90002.0\n",
       "5                57,766  90003.0\n",
       "7                30,446  90004.0\n",
       "9                19,660  90005.0\n",
       "..                  ...      ...\n",
       "595              28,313  93552.0\n",
       "597                 727  93553.0\n",
       "599               9,205  93560.0\n",
       "601                  59  93563.0\n",
       "603               4,227  93591.0\n",
       "\n",
       "[302 rows x 2 columns]"
      ]
     },
     "execution_count": 47,
     "metadata": {},
     "output_type": "execute_result"
    }
   ],
   "source": [
    "hispanic_totals"
   ]
  },
  {
   "cell_type": "markdown",
   "metadata": {},
   "source": [
    "## Repeat process for total population"
   ]
  },
  {
   "cell_type": "code",
   "execution_count": 48,
   "metadata": {},
   "outputs": [],
   "source": [
    "total_pop = pd.read_csv('la_total_pop.csv')"
   ]
  },
  {
   "cell_type": "code",
   "execution_count": 49,
   "metadata": {
    "scrolled": false
   },
   "outputs": [
    {
     "data": {
      "text/html": [
       "<div>\n",
       "<style scoped>\n",
       "    .dataframe tbody tr th:only-of-type {\n",
       "        vertical-align: middle;\n",
       "    }\n",
       "\n",
       "    .dataframe tbody tr th {\n",
       "        vertical-align: top;\n",
       "    }\n",
       "\n",
       "    .dataframe thead th {\n",
       "        text-align: right;\n",
       "    }\n",
       "</style>\n",
       "<table border=\"1\" class=\"dataframe\">\n",
       "  <thead>\n",
       "    <tr style=\"text-align: right;\">\n",
       "      <th></th>\n",
       "      <th>Label (Grouping)</th>\n",
       "      <th>ZCTA5 90001!!Estimate</th>\n",
       "      <th>ZCTA5 90001!!Margin of Error</th>\n",
       "      <th>ZCTA5 90001!!Percent</th>\n",
       "      <th>ZCTA5 90001!!Percent Margin of Error</th>\n",
       "      <th>ZCTA5 90002!!Estimate</th>\n",
       "      <th>ZCTA5 90002!!Margin of Error</th>\n",
       "      <th>ZCTA5 90002!!Percent</th>\n",
       "      <th>ZCTA5 90002!!Percent Margin of Error</th>\n",
       "      <th>ZCTA5 90003!!Estimate</th>\n",
       "      <th>...</th>\n",
       "      <th>ZCTA5 93560!!Percent</th>\n",
       "      <th>ZCTA5 93560!!Percent Margin of Error</th>\n",
       "      <th>ZCTA5 93563!!Estimate</th>\n",
       "      <th>ZCTA5 93563!!Margin of Error</th>\n",
       "      <th>ZCTA5 93563!!Percent</th>\n",
       "      <th>ZCTA5 93563!!Percent Margin of Error</th>\n",
       "      <th>ZCTA5 93591!!Estimate</th>\n",
       "      <th>ZCTA5 93591!!Margin of Error</th>\n",
       "      <th>ZCTA5 93591!!Percent</th>\n",
       "      <th>ZCTA5 93591!!Percent Margin of Error</th>\n",
       "    </tr>\n",
       "  </thead>\n",
       "  <tbody>\n",
       "    <tr>\n",
       "      <th>0</th>\n",
       "      <td>SEX AND AGE</td>\n",
       "      <td>NaN</td>\n",
       "      <td>NaN</td>\n",
       "      <td>NaN</td>\n",
       "      <td>NaN</td>\n",
       "      <td>NaN</td>\n",
       "      <td>NaN</td>\n",
       "      <td>NaN</td>\n",
       "      <td>NaN</td>\n",
       "      <td>NaN</td>\n",
       "      <td>...</td>\n",
       "      <td>NaN</td>\n",
       "      <td>NaN</td>\n",
       "      <td>NaN</td>\n",
       "      <td>NaN</td>\n",
       "      <td>NaN</td>\n",
       "      <td>NaN</td>\n",
       "      <td>NaN</td>\n",
       "      <td>NaN</td>\n",
       "      <td>NaN</td>\n",
       "      <td>NaN</td>\n",
       "    </tr>\n",
       "    <tr>\n",
       "      <th>1</th>\n",
       "      <td>Total population</td>\n",
       "      <td>59,832</td>\n",
       "      <td>±1,842</td>\n",
       "      <td>59,832</td>\n",
       "      <td>(X)</td>\n",
       "      <td>53,302</td>\n",
       "      <td>±2,254</td>\n",
       "      <td>53,302</td>\n",
       "      <td>(X)</td>\n",
       "      <td>73,730</td>\n",
       "      <td>...</td>\n",
       "      <td>21,756</td>\n",
       "      <td>(X)</td>\n",
       "      <td>357.0</td>\n",
       "      <td>±122</td>\n",
       "      <td>357</td>\n",
       "      <td>(X)</td>\n",
       "      <td>6,744</td>\n",
       "      <td>±779</td>\n",
       "      <td>6,744</td>\n",
       "      <td>(X)</td>\n",
       "    </tr>\n",
       "    <tr>\n",
       "      <th>2</th>\n",
       "      <td>Male</td>\n",
       "      <td>30,910</td>\n",
       "      <td>±1,173</td>\n",
       "      <td>51.7%</td>\n",
       "      <td>±1.1</td>\n",
       "      <td>25,422</td>\n",
       "      <td>±1,302</td>\n",
       "      <td>47.7%</td>\n",
       "      <td>±1.2</td>\n",
       "      <td>36,135</td>\n",
       "      <td>...</td>\n",
       "      <td>51.5%</td>\n",
       "      <td>±2.6</td>\n",
       "      <td>233.0</td>\n",
       "      <td>±78</td>\n",
       "      <td>65.3%</td>\n",
       "      <td>±7.9</td>\n",
       "      <td>2,978</td>\n",
       "      <td>±391</td>\n",
       "      <td>44.2%</td>\n",
       "      <td>±3.4</td>\n",
       "    </tr>\n",
       "    <tr>\n",
       "      <th>3</th>\n",
       "      <td>Female</td>\n",
       "      <td>28,922</td>\n",
       "      <td>±1,061</td>\n",
       "      <td>48.3%</td>\n",
       "      <td>±1.1</td>\n",
       "      <td>27,880</td>\n",
       "      <td>±1,291</td>\n",
       "      <td>52.3%</td>\n",
       "      <td>±1.2</td>\n",
       "      <td>37,595</td>\n",
       "      <td>...</td>\n",
       "      <td>48.5%</td>\n",
       "      <td>±2.6</td>\n",
       "      <td>124.0</td>\n",
       "      <td>±57</td>\n",
       "      <td>34.7%</td>\n",
       "      <td>±7.9</td>\n",
       "      <td>3,766</td>\n",
       "      <td>±513</td>\n",
       "      <td>55.8%</td>\n",
       "      <td>±3.4</td>\n",
       "    </tr>\n",
       "    <tr>\n",
       "      <th>4</th>\n",
       "      <td>Sex ratio (males per 100 females)</td>\n",
       "      <td>106.9</td>\n",
       "      <td>±4.5</td>\n",
       "      <td>(X)</td>\n",
       "      <td>(X)</td>\n",
       "      <td>91.2</td>\n",
       "      <td>±4.4</td>\n",
       "      <td>(X)</td>\n",
       "      <td>(X)</td>\n",
       "      <td>96.1</td>\n",
       "      <td>...</td>\n",
       "      <td>(X)</td>\n",
       "      <td>(X)</td>\n",
       "      <td>187.9</td>\n",
       "      <td>±68.0</td>\n",
       "      <td>(X)</td>\n",
       "      <td>(X)</td>\n",
       "      <td>79.1</td>\n",
       "      <td>±11.0</td>\n",
       "      <td>(X)</td>\n",
       "      <td>(X)</td>\n",
       "    </tr>\n",
       "  </tbody>\n",
       "</table>\n",
       "<p>5 rows × 1209 columns</p>\n",
       "</div>"
      ],
      "text/plain": [
       "                            Label (Grouping) ZCTA5 90001!!Estimate  \\\n",
       "0                                SEX AND AGE                   NaN   \n",
       "1                           Total population                59,832   \n",
       "2                                       Male                30,910   \n",
       "3                                     Female                28,922   \n",
       "4          Sex ratio (males per 100 females)                 106.9   \n",
       "\n",
       "  ZCTA5 90001!!Margin of Error ZCTA5 90001!!Percent  \\\n",
       "0                          NaN                  NaN   \n",
       "1                       ±1,842               59,832   \n",
       "2                       ±1,173                51.7%   \n",
       "3                       ±1,061                48.3%   \n",
       "4                         ±4.5                  (X)   \n",
       "\n",
       "  ZCTA5 90001!!Percent Margin of Error ZCTA5 90002!!Estimate  \\\n",
       "0                                  NaN                   NaN   \n",
       "1                                  (X)                53,302   \n",
       "2                                 ±1.1                25,422   \n",
       "3                                 ±1.1                27,880   \n",
       "4                                  (X)                  91.2   \n",
       "\n",
       "  ZCTA5 90002!!Margin of Error ZCTA5 90002!!Percent  \\\n",
       "0                          NaN                  NaN   \n",
       "1                       ±2,254               53,302   \n",
       "2                       ±1,302                47.7%   \n",
       "3                       ±1,291                52.3%   \n",
       "4                         ±4.4                  (X)   \n",
       "\n",
       "  ZCTA5 90002!!Percent Margin of Error ZCTA5 90003!!Estimate  ...  \\\n",
       "0                                  NaN                   NaN  ...   \n",
       "1                                  (X)                73,730  ...   \n",
       "2                                 ±1.2                36,135  ...   \n",
       "3                                 ±1.2                37,595  ...   \n",
       "4                                  (X)                  96.1  ...   \n",
       "\n",
       "  ZCTA5 93560!!Percent ZCTA5 93560!!Percent Margin of Error  \\\n",
       "0                  NaN                                  NaN   \n",
       "1               21,756                                  (X)   \n",
       "2                51.5%                                 ±2.6   \n",
       "3                48.5%                                 ±2.6   \n",
       "4                  (X)                                  (X)   \n",
       "\n",
       "  ZCTA5 93563!!Estimate ZCTA5 93563!!Margin of Error ZCTA5 93563!!Percent  \\\n",
       "0                   NaN                          NaN                  NaN   \n",
       "1                 357.0                         ±122                  357   \n",
       "2                 233.0                          ±78                65.3%   \n",
       "3                 124.0                          ±57                34.7%   \n",
       "4                 187.9                        ±68.0                  (X)   \n",
       "\n",
       "  ZCTA5 93563!!Percent Margin of Error ZCTA5 93591!!Estimate  \\\n",
       "0                                  NaN                   NaN   \n",
       "1                                  (X)                 6,744   \n",
       "2                                 ±7.9                 2,978   \n",
       "3                                 ±7.9                 3,766   \n",
       "4                                  (X)                  79.1   \n",
       "\n",
       "  ZCTA5 93591!!Margin of Error ZCTA5 93591!!Percent  \\\n",
       "0                          NaN                  NaN   \n",
       "1                         ±779                6,744   \n",
       "2                         ±391                44.2%   \n",
       "3                         ±513                55.8%   \n",
       "4                        ±11.0                  (X)   \n",
       "\n",
       "  ZCTA5 93591!!Percent Margin of Error  \n",
       "0                                  NaN  \n",
       "1                                  (X)  \n",
       "2                                 ±3.4  \n",
       "3                                 ±3.4  \n",
       "4                                  (X)  \n",
       "\n",
       "[5 rows x 1209 columns]"
      ]
     },
     "execution_count": 49,
     "metadata": {},
     "output_type": "execute_result"
    }
   ],
   "source": [
    "total_pop.head()"
   ]
  },
  {
   "cell_type": "code",
   "execution_count": 50,
   "metadata": {},
   "outputs": [],
   "source": [
    "total_pop.iloc[1,0] = 'Total population'"
   ]
  },
  {
   "cell_type": "code",
   "execution_count": 51,
   "metadata": {
    "scrolled": true
   },
   "outputs": [
    {
     "data": {
      "text/plain": [
       "[0                                   SEX AND AGE\n",
       " 1                              Total population\n",
       " 2                                          Male\n",
       " 3                                        Female\n",
       " 4             Sex ratio (males per 100 females)\n",
       "                         ...                    \n",
       " 89                          Total housing units\n",
       " 90               CITIZEN, VOTING AGE POPULATION\n",
       " 91              Citizen, 18 and over population\n",
       " 92                                         Male\n",
       " 93                                       Female\n",
       " Name: Label (Grouping), Length: 94, dtype: object]"
      ]
     },
     "execution_count": 51,
     "metadata": {},
     "output_type": "execute_result"
    }
   ],
   "source": [
    "[total_pop['Label (Grouping)']]"
   ]
  },
  {
   "cell_type": "code",
   "execution_count": 52,
   "metadata": {
    "scrolled": true
   },
   "outputs": [
    {
     "data": {
      "text/html": [
       "<div>\n",
       "<style scoped>\n",
       "    .dataframe tbody tr th:only-of-type {\n",
       "        vertical-align: middle;\n",
       "    }\n",
       "\n",
       "    .dataframe tbody tr th {\n",
       "        vertical-align: top;\n",
       "    }\n",
       "\n",
       "    .dataframe thead th {\n",
       "        text-align: right;\n",
       "    }\n",
       "</style>\n",
       "<table border=\"1\" class=\"dataframe\">\n",
       "  <thead>\n",
       "    <tr style=\"text-align: right;\">\n",
       "      <th></th>\n",
       "      <th>Label (Grouping)</th>\n",
       "      <th>ZCTA5 90001!!Estimate</th>\n",
       "      <th>ZCTA5 90001!!Margin of Error</th>\n",
       "      <th>ZCTA5 90001!!Percent</th>\n",
       "      <th>ZCTA5 90001!!Percent Margin of Error</th>\n",
       "      <th>ZCTA5 90002!!Estimate</th>\n",
       "      <th>ZCTA5 90002!!Margin of Error</th>\n",
       "      <th>ZCTA5 90002!!Percent</th>\n",
       "      <th>ZCTA5 90002!!Percent Margin of Error</th>\n",
       "      <th>ZCTA5 90003!!Estimate</th>\n",
       "      <th>...</th>\n",
       "      <th>ZCTA5 93560!!Percent</th>\n",
       "      <th>ZCTA5 93560!!Percent Margin of Error</th>\n",
       "      <th>ZCTA5 93563!!Estimate</th>\n",
       "      <th>ZCTA5 93563!!Margin of Error</th>\n",
       "      <th>ZCTA5 93563!!Percent</th>\n",
       "      <th>ZCTA5 93563!!Percent Margin of Error</th>\n",
       "      <th>ZCTA5 93591!!Estimate</th>\n",
       "      <th>ZCTA5 93591!!Margin of Error</th>\n",
       "      <th>ZCTA5 93591!!Percent</th>\n",
       "      <th>ZCTA5 93591!!Percent Margin of Error</th>\n",
       "    </tr>\n",
       "  </thead>\n",
       "  <tbody>\n",
       "    <tr>\n",
       "      <th>1</th>\n",
       "      <td>Total population</td>\n",
       "      <td>59,832</td>\n",
       "      <td>±1,842</td>\n",
       "      <td>59,832</td>\n",
       "      <td>(X)</td>\n",
       "      <td>53,302</td>\n",
       "      <td>±2,254</td>\n",
       "      <td>53,302</td>\n",
       "      <td>(X)</td>\n",
       "      <td>73,730</td>\n",
       "      <td>...</td>\n",
       "      <td>21,756</td>\n",
       "      <td>(X)</td>\n",
       "      <td>357.0</td>\n",
       "      <td>±122</td>\n",
       "      <td>357</td>\n",
       "      <td>(X)</td>\n",
       "      <td>6,744</td>\n",
       "      <td>±779</td>\n",
       "      <td>6,744</td>\n",
       "      <td>(X)</td>\n",
       "    </tr>\n",
       "  </tbody>\n",
       "</table>\n",
       "<p>1 rows × 1209 columns</p>\n",
       "</div>"
      ],
      "text/plain": [
       "   Label (Grouping) ZCTA5 90001!!Estimate ZCTA5 90001!!Margin of Error  \\\n",
       "1  Total population                59,832                       ±1,842   \n",
       "\n",
       "  ZCTA5 90001!!Percent ZCTA5 90001!!Percent Margin of Error  \\\n",
       "1               59,832                                  (X)   \n",
       "\n",
       "  ZCTA5 90002!!Estimate ZCTA5 90002!!Margin of Error ZCTA5 90002!!Percent  \\\n",
       "1                53,302                       ±2,254               53,302   \n",
       "\n",
       "  ZCTA5 90002!!Percent Margin of Error ZCTA5 90003!!Estimate  ...  \\\n",
       "1                                  (X)                73,730  ...   \n",
       "\n",
       "  ZCTA5 93560!!Percent ZCTA5 93560!!Percent Margin of Error  \\\n",
       "1               21,756                                  (X)   \n",
       "\n",
       "  ZCTA5 93563!!Estimate ZCTA5 93563!!Margin of Error ZCTA5 93563!!Percent  \\\n",
       "1                 357.0                         ±122                  357   \n",
       "\n",
       "  ZCTA5 93563!!Percent Margin of Error ZCTA5 93591!!Estimate  \\\n",
       "1                                  (X)                 6,744   \n",
       "\n",
       "  ZCTA5 93591!!Margin of Error ZCTA5 93591!!Percent  \\\n",
       "1                         ±779                6,744   \n",
       "\n",
       "  ZCTA5 93591!!Percent Margin of Error  \n",
       "1                                  (X)  \n",
       "\n",
       "[1 rows x 1209 columns]"
      ]
     },
     "execution_count": 52,
     "metadata": {},
     "output_type": "execute_result"
    }
   ],
   "source": [
    "total_pop[total_pop['Label (Grouping)'] == 'Total population']"
   ]
  },
  {
   "cell_type": "code",
   "execution_count": 53,
   "metadata": {},
   "outputs": [],
   "source": [
    "# \n",
    "total_totals = total_pop[total_pop['Label (Grouping)'] == 'Total population'].T.reset_index().iloc[:,:]"
   ]
  },
  {
   "cell_type": "code",
   "execution_count": 54,
   "metadata": {},
   "outputs": [
    {
     "data": {
      "text/html": [
       "<div>\n",
       "<style scoped>\n",
       "    .dataframe tbody tr th:only-of-type {\n",
       "        vertical-align: middle;\n",
       "    }\n",
       "\n",
       "    .dataframe tbody tr th {\n",
       "        vertical-align: top;\n",
       "    }\n",
       "\n",
       "    .dataframe thead th {\n",
       "        text-align: right;\n",
       "    }\n",
       "</style>\n",
       "<table border=\"1\" class=\"dataframe\">\n",
       "  <thead>\n",
       "    <tr style=\"text-align: right;\">\n",
       "      <th></th>\n",
       "      <th>index</th>\n",
       "      <th>1</th>\n",
       "    </tr>\n",
       "  </thead>\n",
       "  <tbody>\n",
       "    <tr>\n",
       "      <th>0</th>\n",
       "      <td>Label (Grouping)</td>\n",
       "      <td>Total population</td>\n",
       "    </tr>\n",
       "    <tr>\n",
       "      <th>1</th>\n",
       "      <td>ZCTA5 90001!!Estimate</td>\n",
       "      <td>59,832</td>\n",
       "    </tr>\n",
       "    <tr>\n",
       "      <th>2</th>\n",
       "      <td>ZCTA5 90001!!Margin of Error</td>\n",
       "      <td>±1,842</td>\n",
       "    </tr>\n",
       "    <tr>\n",
       "      <th>3</th>\n",
       "      <td>ZCTA5 90001!!Percent</td>\n",
       "      <td>59,832</td>\n",
       "    </tr>\n",
       "    <tr>\n",
       "      <th>4</th>\n",
       "      <td>ZCTA5 90001!!Percent Margin of Error</td>\n",
       "      <td>(X)</td>\n",
       "    </tr>\n",
       "    <tr>\n",
       "      <th>...</th>\n",
       "      <td>...</td>\n",
       "      <td>...</td>\n",
       "    </tr>\n",
       "    <tr>\n",
       "      <th>1204</th>\n",
       "      <td>ZCTA5 93563!!Percent Margin of Error</td>\n",
       "      <td>(X)</td>\n",
       "    </tr>\n",
       "    <tr>\n",
       "      <th>1205</th>\n",
       "      <td>ZCTA5 93591!!Estimate</td>\n",
       "      <td>6,744</td>\n",
       "    </tr>\n",
       "    <tr>\n",
       "      <th>1206</th>\n",
       "      <td>ZCTA5 93591!!Margin of Error</td>\n",
       "      <td>±779</td>\n",
       "    </tr>\n",
       "    <tr>\n",
       "      <th>1207</th>\n",
       "      <td>ZCTA5 93591!!Percent</td>\n",
       "      <td>6,744</td>\n",
       "    </tr>\n",
       "    <tr>\n",
       "      <th>1208</th>\n",
       "      <td>ZCTA5 93591!!Percent Margin of Error</td>\n",
       "      <td>(X)</td>\n",
       "    </tr>\n",
       "  </tbody>\n",
       "</table>\n",
       "<p>1209 rows × 2 columns</p>\n",
       "</div>"
      ],
      "text/plain": [
       "                                     index                 1\n",
       "0                         Label (Grouping)  Total population\n",
       "1                    ZCTA5 90001!!Estimate            59,832\n",
       "2             ZCTA5 90001!!Margin of Error            ±1,842\n",
       "3                     ZCTA5 90001!!Percent            59,832\n",
       "4     ZCTA5 90001!!Percent Margin of Error               (X)\n",
       "...                                    ...               ...\n",
       "1204  ZCTA5 93563!!Percent Margin of Error               (X)\n",
       "1205                 ZCTA5 93591!!Estimate             6,744\n",
       "1206          ZCTA5 93591!!Margin of Error              ±779\n",
       "1207                  ZCTA5 93591!!Percent             6,744\n",
       "1208  ZCTA5 93591!!Percent Margin of Error               (X)\n",
       "\n",
       "[1209 rows x 2 columns]"
      ]
     },
     "execution_count": 54,
     "metadata": {},
     "output_type": "execute_result"
    }
   ],
   "source": [
    "total_totals"
   ]
  },
  {
   "cell_type": "code",
   "execution_count": 55,
   "metadata": {
    "scrolled": false
   },
   "outputs": [],
   "source": [
    "total_totals.columns = ['subgroup_info', 'total_population']"
   ]
  },
  {
   "cell_type": "code",
   "execution_count": 56,
   "metadata": {
    "scrolled": true
   },
   "outputs": [],
   "source": [
    "total_totals = total_totals[total_totals['subgroup_info'].str.contains('Estimate')]"
   ]
  },
  {
   "cell_type": "code",
   "execution_count": 57,
   "metadata": {
    "scrolled": true
   },
   "outputs": [
    {
     "data": {
      "text/plain": [
       "1       ZCTA5 90001!!Estimate\n",
       "5       ZCTA5 90002!!Estimate\n",
       "9       ZCTA5 90003!!Estimate\n",
       "13      ZCTA5 90004!!Estimate\n",
       "17      ZCTA5 90005!!Estimate\n",
       "                ...          \n",
       "1189    ZCTA5 93552!!Estimate\n",
       "1193    ZCTA5 93553!!Estimate\n",
       "1197    ZCTA5 93560!!Estimate\n",
       "1201    ZCTA5 93563!!Estimate\n",
       "1205    ZCTA5 93591!!Estimate\n",
       "Name: subgroup_info, Length: 302, dtype: object"
      ]
     },
     "execution_count": 57,
     "metadata": {},
     "output_type": "execute_result"
    }
   ],
   "source": [
    "total_totals['subgroup_info']"
   ]
  },
  {
   "cell_type": "code",
   "execution_count": 58,
   "metadata": {
    "scrolled": false
   },
   "outputs": [],
   "source": [
    "# Grabs the zipcodes from each string object in a list\n",
    "# [(lambda a: re.findall(r'[0-9]{5}', a))(z)[0] for z in zip_codes[1:]]"
   ]
  },
  {
   "cell_type": "code",
   "execution_count": 59,
   "metadata": {
    "scrolled": true
   },
   "outputs": [],
   "source": [
    "total_zct = [(lambda a: re.findall(r'[0-9]{5}', a))(z)[0] for z in total_totals['subgroup_info']]"
   ]
  },
  {
   "cell_type": "code",
   "execution_count": 60,
   "metadata": {
    "scrolled": true
   },
   "outputs": [
    {
     "name": "stdout",
     "output_type": "stream",
     "text": [
      "302 302\n"
     ]
    }
   ],
   "source": [
    "# check length\n",
    "print(len(total_totals['subgroup_info']),len(total_zct))"
   ]
  },
  {
   "cell_type": "code",
   "execution_count": 61,
   "metadata": {
    "scrolled": true
   },
   "outputs": [
    {
     "name": "stderr",
     "output_type": "stream",
     "text": [
      "C:\\Users\\Allen\\anaconda3\\lib\\site-packages\\ipykernel_launcher.py:1: SettingWithCopyWarning: \n",
      "A value is trying to be set on a copy of a slice from a DataFrame.\n",
      "Try using .loc[row_indexer,col_indexer] = value instead\n",
      "\n",
      "See the caveats in the documentation: https://pandas.pydata.org/pandas-docs/stable/user_guide/indexing.html#returning-a-view-versus-a-copy\n",
      "  \"\"\"Entry point for launching an IPython kernel.\n"
     ]
    }
   ],
   "source": [
    "total_totals['zipcode'] = total_zct"
   ]
  },
  {
   "cell_type": "code",
   "execution_count": 62,
   "metadata": {},
   "outputs": [
    {
     "name": "stderr",
     "output_type": "stream",
     "text": [
      "C:\\Users\\Allen\\anaconda3\\lib\\site-packages\\ipykernel_launcher.py:1: SettingWithCopyWarning: \n",
      "A value is trying to be set on a copy of a slice from a DataFrame.\n",
      "Try using .loc[row_indexer,col_indexer] = value instead\n",
      "\n",
      "See the caveats in the documentation: https://pandas.pydata.org/pandas-docs/stable/user_guide/indexing.html#returning-a-view-versus-a-copy\n",
      "  \"\"\"Entry point for launching an IPython kernel.\n"
     ]
    }
   ],
   "source": [
    "total_totals['zipcode'] = total_totals['zipcode'].astype('float')"
   ]
  },
  {
   "cell_type": "code",
   "execution_count": 63,
   "metadata": {},
   "outputs": [],
   "source": [
    "total_totals = total_totals.drop('subgroup_info', axis = 1)"
   ]
  },
  {
   "cell_type": "code",
   "execution_count": 64,
   "metadata": {
    "scrolled": false
   },
   "outputs": [
    {
     "data": {
      "text/html": [
       "<div>\n",
       "<style scoped>\n",
       "    .dataframe tbody tr th:only-of-type {\n",
       "        vertical-align: middle;\n",
       "    }\n",
       "\n",
       "    .dataframe tbody tr th {\n",
       "        vertical-align: top;\n",
       "    }\n",
       "\n",
       "    .dataframe thead th {\n",
       "        text-align: right;\n",
       "    }\n",
       "</style>\n",
       "<table border=\"1\" class=\"dataframe\">\n",
       "  <thead>\n",
       "    <tr style=\"text-align: right;\">\n",
       "      <th></th>\n",
       "      <th>total_population</th>\n",
       "      <th>zipcode</th>\n",
       "    </tr>\n",
       "  </thead>\n",
       "  <tbody>\n",
       "    <tr>\n",
       "      <th>1</th>\n",
       "      <td>59,832</td>\n",
       "      <td>90001.0</td>\n",
       "    </tr>\n",
       "    <tr>\n",
       "      <th>5</th>\n",
       "      <td>53,302</td>\n",
       "      <td>90002.0</td>\n",
       "    </tr>\n",
       "    <tr>\n",
       "      <th>9</th>\n",
       "      <td>73,730</td>\n",
       "      <td>90003.0</td>\n",
       "    </tr>\n",
       "    <tr>\n",
       "      <th>13</th>\n",
       "      <td>60,541</td>\n",
       "      <td>90004.0</td>\n",
       "    </tr>\n",
       "    <tr>\n",
       "      <th>17</th>\n",
       "      <td>39,732</td>\n",
       "      <td>90005.0</td>\n",
       "    </tr>\n",
       "    <tr>\n",
       "      <th>...</th>\n",
       "      <td>...</td>\n",
       "      <td>...</td>\n",
       "    </tr>\n",
       "    <tr>\n",
       "      <th>1189</th>\n",
       "      <td>39,905</td>\n",
       "      <td>93552.0</td>\n",
       "    </tr>\n",
       "    <tr>\n",
       "      <th>1193</th>\n",
       "      <td>1,709</td>\n",
       "      <td>93553.0</td>\n",
       "    </tr>\n",
       "    <tr>\n",
       "      <th>1197</th>\n",
       "      <td>21,756</td>\n",
       "      <td>93560.0</td>\n",
       "    </tr>\n",
       "    <tr>\n",
       "      <th>1201</th>\n",
       "      <td>357.0</td>\n",
       "      <td>93563.0</td>\n",
       "    </tr>\n",
       "    <tr>\n",
       "      <th>1205</th>\n",
       "      <td>6,744</td>\n",
       "      <td>93591.0</td>\n",
       "    </tr>\n",
       "  </tbody>\n",
       "</table>\n",
       "<p>302 rows × 2 columns</p>\n",
       "</div>"
      ],
      "text/plain": [
       "     total_population  zipcode\n",
       "1              59,832  90001.0\n",
       "5              53,302  90002.0\n",
       "9              73,730  90003.0\n",
       "13             60,541  90004.0\n",
       "17             39,732  90005.0\n",
       "...               ...      ...\n",
       "1189           39,905  93552.0\n",
       "1193            1,709  93553.0\n",
       "1197           21,756  93560.0\n",
       "1201            357.0  93563.0\n",
       "1205            6,744  93591.0\n",
       "\n",
       "[302 rows x 2 columns]"
      ]
     },
     "execution_count": 64,
     "metadata": {},
     "output_type": "execute_result"
    }
   ],
   "source": [
    "total_totals"
   ]
  },
  {
   "cell_type": "code",
   "execution_count": 65,
   "metadata": {},
   "outputs": [
    {
     "data": {
      "text/plain": [
       "1       90001.0\n",
       "5       90002.0\n",
       "9       90003.0\n",
       "13      90004.0\n",
       "17      90005.0\n",
       "         ...   \n",
       "1189    93552.0\n",
       "1193    93553.0\n",
       "1197    93560.0\n",
       "1201    93563.0\n",
       "1205    93591.0\n",
       "Name: zipcode, Length: 302, dtype: float64"
      ]
     },
     "execution_count": 65,
     "metadata": {},
     "output_type": "execute_result"
    }
   ],
   "source": [
    "total_totals['zipcode'].astype('float')"
   ]
  },
  {
   "cell_type": "code",
   "execution_count": 66,
   "metadata": {
    "scrolled": true
   },
   "outputs": [
    {
     "ename": "NameError",
     "evalue": "name 'data_grouped_confidential' is not defined",
     "output_type": "error",
     "traceback": [
      "\u001b[1;31m---------------------------------------------------------------------------\u001b[0m",
      "\u001b[1;31mNameError\u001b[0m                                 Traceback (most recent call last)",
      "\u001b[1;32m<ipython-input-66-197cbbfd4329>\u001b[0m in \u001b[0;36m<module>\u001b[1;34m\u001b[0m\n\u001b[1;32m----> 1\u001b[1;33m \u001b[0mfinal\u001b[0m \u001b[1;33m=\u001b[0m \u001b[0mdata_grouped_confidential\u001b[0m\u001b[1;33m.\u001b[0m\u001b[0mreset_index\u001b[0m\u001b[1;33m(\u001b[0m\u001b[1;33m)\u001b[0m\u001b[1;33m\u001b[0m\u001b[1;33m\u001b[0m\u001b[0m\n\u001b[0m",
      "\u001b[1;31mNameError\u001b[0m: name 'data_grouped_confidential' is not defined"
     ]
    }
   ],
   "source": [
    "final = data_grouped_confidential.reset_index()"
   ]
  },
  {
   "cell_type": "code",
   "execution_count": null,
   "metadata": {
    "scrolled": true
   },
   "outputs": [],
   "source": [
    "# merge population data into one data frame\n",
    "final = final.merge(total_totals, how = 'left', left_on = 'Zip', right_on= 'zipcode').drop('zipcode', axis =1)\n",
    "final = final.merge(black_totals, how = 'left', left_on = 'Zip', right_on= 'zipcode').drop('zipcode', axis =1)\n",
    "final = final.merge(hispanic_totals, how = 'left', left_on = 'Zip', right_on= 'zipcode').drop('zipcode', axis =1)"
   ]
  },
  {
   "cell_type": "code",
   "execution_count": null,
   "metadata": {},
   "outputs": [],
   "source": [
    "final['black_population']"
   ]
  },
  {
   "cell_type": "code",
   "execution_count": null,
   "metadata": {
    "scrolled": false
   },
   "outputs": [],
   "source": [
    "# handle commas in population data so they can be turned into numeric values\n",
    "final['total_population'] = final['total_population'].astype(str)\n",
    "final['black_population'] = final['black_population'].astype(str)\n",
    "final['hispanic_population'] = final['hispanic_population'].astype(str)\n",
    "\n",
    "final['total_population'] = final['total_population'].str.replace(',', '').astype(float)\n",
    "final['black_population'] = final['black_population'].str.replace(',', '').astype(float)\n",
    "final['hispanic_population'] = final['hispanic_population'].str.replace(',', '').astype(float)"
   ]
  },
  {
   "cell_type": "code",
   "execution_count": null,
   "metadata": {},
   "outputs": [],
   "source": [
    "# create percentage values for every zipcode\n",
    "final['black_percent'] = final['black_population'] / final['total_population']\n",
    "final['hispanic_percent'] = final['hispanic_population'] / final['total_population']"
   ]
  },
  {
   "cell_type": "code",
   "execution_count": null,
   "metadata": {},
   "outputs": [],
   "source": [
    "final.drop('level_0', axis = 1, inplace = True)"
   ]
  },
  {
   "cell_type": "code",
   "execution_count": null,
   "metadata": {},
   "outputs": [],
   "source": [
    "final"
   ]
  },
  {
   "cell_type": "markdown",
   "metadata": {},
   "source": [
    "## Data export"
   ]
  },
  {
   "cell_type": "code",
   "execution_count": null,
   "metadata": {},
   "outputs": [],
   "source": [
    "# final.to_csv('PACE_data.csv')"
   ]
  },
  {
   "cell_type": "code",
   "execution_count": null,
   "metadata": {},
   "outputs": [],
   "source": [
    "final.describe()"
   ]
  },
  {
   "cell_type": "markdown",
   "metadata": {},
   "source": [
    "# Color filter tableau\n",
    "I wanted to make it so that tableau would adjust the color filter so I'm creating a new dataset that will work for said purpose. Essentially by creating a single percent variable and then stacking two duplicate datasets: one with black data and one with hispanic data. Tableau can color by percent and filter based off the category thus allowing for one to see the differences in real time by changing the filter."
   ]
  },
  {
   "cell_type": "code",
   "execution_count": null,
   "metadata": {},
   "outputs": [],
   "source": [
    "black_cat = final.drop(['hispanic_percent', 'hispanic_population'],axis = 1).rename(columns = {'black_population' : 'population', 'black_percent' : 'percent'})\n",
    "black_cat['Category'] = 'Black'\n",
    "\n",
    "hispanic_cat = final.drop(['black_percent', 'black_population'],axis = 1).rename(columns = {'hispanic_population' : 'population', 'hispanic_percent' : 'percent'})\n",
    "hispanic_cat['Category'] = 'Hispanic'\n",
    "\n",
    "none_cat = final.drop(['hispanic_percent', 'hispanic_population', 'black_percent', 'black_population'], axis = 1)\n",
    "none_cat['Category'] = 'None'\n",
    "none_cat['population'] = float('NaN')\n",
    "none_cat['percent'] = 0\n",
    "\n",
    "PACE_tableau = pd.concat([black_cat, hispanic_cat, none_cat], axis = 0)"
   ]
  },
  {
   "cell_type": "code",
   "execution_count": null,
   "metadata": {},
   "outputs": [],
   "source": [
    "hispanic_cat"
   ]
  },
  {
   "cell_type": "code",
   "execution_count": null,
   "metadata": {},
   "outputs": [],
   "source": [
    "black_cat"
   ]
  },
  {
   "cell_type": "markdown",
   "metadata": {},
   "source": [
    "## Tableau adjusted data export"
   ]
  },
  {
   "cell_type": "code",
   "execution_count": null,
   "metadata": {},
   "outputs": [],
   "source": [
    "# PACE_tableau.to_csv('PACE_tableau.csv')"
   ]
  },
  {
   "cell_type": "markdown",
   "metadata": {},
   "source": [
    "# Zip Code Map Layer Tableau\n",
    "### Created a dataframe with only each zipcode and the population data for all demographics for the purpose of creating a map layer"
   ]
  },
  {
   "cell_type": "code",
   "execution_count": 67,
   "metadata": {
    "scrolled": true
   },
   "outputs": [
    {
     "data": {
      "text/html": [
       "<div>\n",
       "<style scoped>\n",
       "    .dataframe tbody tr th:only-of-type {\n",
       "        vertical-align: middle;\n",
       "    }\n",
       "\n",
       "    .dataframe tbody tr th {\n",
       "        vertical-align: top;\n",
       "    }\n",
       "\n",
       "    .dataframe thead th {\n",
       "        text-align: right;\n",
       "    }\n",
       "</style>\n",
       "<table border=\"1\" class=\"dataframe\">\n",
       "  <thead>\n",
       "    <tr style=\"text-align: right;\">\n",
       "      <th></th>\n",
       "      <th>total_population</th>\n",
       "      <th>zipcode</th>\n",
       "    </tr>\n",
       "  </thead>\n",
       "  <tbody>\n",
       "    <tr>\n",
       "      <th>1</th>\n",
       "      <td>59,832</td>\n",
       "      <td>90001.0</td>\n",
       "    </tr>\n",
       "    <tr>\n",
       "      <th>5</th>\n",
       "      <td>53,302</td>\n",
       "      <td>90002.0</td>\n",
       "    </tr>\n",
       "    <tr>\n",
       "      <th>9</th>\n",
       "      <td>73,730</td>\n",
       "      <td>90003.0</td>\n",
       "    </tr>\n",
       "    <tr>\n",
       "      <th>13</th>\n",
       "      <td>60,541</td>\n",
       "      <td>90004.0</td>\n",
       "    </tr>\n",
       "    <tr>\n",
       "      <th>17</th>\n",
       "      <td>39,732</td>\n",
       "      <td>90005.0</td>\n",
       "    </tr>\n",
       "    <tr>\n",
       "      <th>...</th>\n",
       "      <td>...</td>\n",
       "      <td>...</td>\n",
       "    </tr>\n",
       "    <tr>\n",
       "      <th>1189</th>\n",
       "      <td>39,905</td>\n",
       "      <td>93552.0</td>\n",
       "    </tr>\n",
       "    <tr>\n",
       "      <th>1193</th>\n",
       "      <td>1,709</td>\n",
       "      <td>93553.0</td>\n",
       "    </tr>\n",
       "    <tr>\n",
       "      <th>1197</th>\n",
       "      <td>21,756</td>\n",
       "      <td>93560.0</td>\n",
       "    </tr>\n",
       "    <tr>\n",
       "      <th>1201</th>\n",
       "      <td>357.0</td>\n",
       "      <td>93563.0</td>\n",
       "    </tr>\n",
       "    <tr>\n",
       "      <th>1205</th>\n",
       "      <td>6,744</td>\n",
       "      <td>93591.0</td>\n",
       "    </tr>\n",
       "  </tbody>\n",
       "</table>\n",
       "<p>302 rows × 2 columns</p>\n",
       "</div>"
      ],
      "text/plain": [
       "     total_population  zipcode\n",
       "1              59,832  90001.0\n",
       "5              53,302  90002.0\n",
       "9              73,730  90003.0\n",
       "13             60,541  90004.0\n",
       "17             39,732  90005.0\n",
       "...               ...      ...\n",
       "1189           39,905  93552.0\n",
       "1193            1,709  93553.0\n",
       "1197           21,756  93560.0\n",
       "1201            357.0  93563.0\n",
       "1205            6,744  93591.0\n",
       "\n",
       "[302 rows x 2 columns]"
      ]
     },
     "execution_count": 67,
     "metadata": {},
     "output_type": "execute_result"
    }
   ],
   "source": [
    "total_totals"
   ]
  },
  {
   "cell_type": "code",
   "execution_count": 95,
   "metadata": {},
   "outputs": [],
   "source": [
    "Zip = pd.DataFrame(final['Zip'].unique())"
   ]
  },
  {
   "cell_type": "code",
   "execution_count": 96,
   "metadata": {},
   "outputs": [],
   "source": [
    "Zip.columns = ['Zip']"
   ]
  },
  {
   "cell_type": "code",
   "execution_count": 97,
   "metadata": {},
   "outputs": [],
   "source": [
    "Zip = Zip.merge(total_totals, how = 'left', left_on = 'Zip', right_on = 'zipcode').drop('zipcode', axis = 1)\n",
    "Zip = Zip.merge(black_totals, how = 'left', left_on = 'Zip', right_on = 'zipcode').drop('zipcode', axis = 1)\n",
    "Zip = Zip.merge(hispanic_totals, how = 'left', left_on = 'Zip', right_on = 'zipcode').drop('zipcode', axis = 1)\n",
    "Zip = Zip.dropna(axis = 0)"
   ]
  },
  {
   "cell_type": "code",
   "execution_count": 99,
   "metadata": {},
   "outputs": [],
   "source": [
    "Zip['total_population'] = Zip['total_population'].astype(str)\n",
    "Zip['black_population'] = Zip['black_population'].astype(str)\n",
    "Zip['hispanic_population'] = Zip['hispanic_population'].astype(str)\n",
    "\n",
    "Zip['total_population'] = Zip['total_population'].str.replace(',', '').astype(float)\n",
    "Zip['black_population'] = Zip['black_population'].str.replace(',', '').astype(float)\n",
    "Zip['hispanic_population'] = Zip['hispanic_population'].str.replace(',', '').astype(float)"
   ]
  },
  {
   "cell_type": "code",
   "execution_count": 101,
   "metadata": {
    "scrolled": false
   },
   "outputs": [],
   "source": [
    "Zip['black_percent'] = Zip['black_population'] / Zip['total_population']\n",
    "Zip['hispanic_percent'] = Zip['hispanic_population'] / Zip['total_population']"
   ]
  },
  {
   "cell_type": "code",
   "execution_count": 100,
   "metadata": {},
   "outputs": [
    {
     "data": {
      "text/html": [
       "<div>\n",
       "<style scoped>\n",
       "    .dataframe tbody tr th:only-of-type {\n",
       "        vertical-align: middle;\n",
       "    }\n",
       "\n",
       "    .dataframe tbody tr th {\n",
       "        vertical-align: top;\n",
       "    }\n",
       "\n",
       "    .dataframe thead th {\n",
       "        text-align: right;\n",
       "    }\n",
       "</style>\n",
       "<table border=\"1\" class=\"dataframe\">\n",
       "  <thead>\n",
       "    <tr style=\"text-align: right;\">\n",
       "      <th></th>\n",
       "      <th>Zip</th>\n",
       "      <th>total_population</th>\n",
       "      <th>black_population</th>\n",
       "      <th>hispanic_population</th>\n",
       "    </tr>\n",
       "  </thead>\n",
       "  <tbody>\n",
       "    <tr>\n",
       "      <th>0</th>\n",
       "      <td>91304.0</td>\n",
       "      <td>54361.0</td>\n",
       "      <td>2709.0</td>\n",
       "      <td>22303.0</td>\n",
       "    </tr>\n",
       "    <tr>\n",
       "      <th>1</th>\n",
       "      <td>91311.0</td>\n",
       "      <td>40839.0</td>\n",
       "      <td>2159.0</td>\n",
       "      <td>10550.0</td>\n",
       "    </tr>\n",
       "    <tr>\n",
       "      <th>3</th>\n",
       "      <td>91307.0</td>\n",
       "      <td>26341.0</td>\n",
       "      <td>995.0</td>\n",
       "      <td>3810.0</td>\n",
       "    </tr>\n",
       "    <tr>\n",
       "      <th>4</th>\n",
       "      <td>91303.0</td>\n",
       "      <td>31586.0</td>\n",
       "      <td>967.0</td>\n",
       "      <td>20279.0</td>\n",
       "    </tr>\n",
       "    <tr>\n",
       "      <th>5</th>\n",
       "      <td>91367.0</td>\n",
       "      <td>45970.0</td>\n",
       "      <td>1932.0</td>\n",
       "      <td>5911.0</td>\n",
       "    </tr>\n",
       "    <tr>\n",
       "      <th>...</th>\n",
       "      <td>...</td>\n",
       "      <td>...</td>\n",
       "      <td>...</td>\n",
       "      <td>...</td>\n",
       "    </tr>\n",
       "    <tr>\n",
       "      <th>260</th>\n",
       "      <td>91731.0</td>\n",
       "      <td>30222.0</td>\n",
       "      <td>118.0</td>\n",
       "      <td>19391.0</td>\n",
       "    </tr>\n",
       "    <tr>\n",
       "      <th>261</th>\n",
       "      <td>91702.0</td>\n",
       "      <td>62066.0</td>\n",
       "      <td>2014.0</td>\n",
       "      <td>41612.0</td>\n",
       "    </tr>\n",
       "    <tr>\n",
       "      <th>262</th>\n",
       "      <td>91741.0</td>\n",
       "      <td>26794.0</td>\n",
       "      <td>228.0</td>\n",
       "      <td>7202.0</td>\n",
       "    </tr>\n",
       "    <tr>\n",
       "      <th>263</th>\n",
       "      <td>91740.0</td>\n",
       "      <td>25877.0</td>\n",
       "      <td>769.0</td>\n",
       "      <td>10895.0</td>\n",
       "    </tr>\n",
       "    <tr>\n",
       "      <th>264</th>\n",
       "      <td>91792.0</td>\n",
       "      <td>29619.0</td>\n",
       "      <td>1967.0</td>\n",
       "      <td>12852.0</td>\n",
       "    </tr>\n",
       "  </tbody>\n",
       "</table>\n",
       "<p>264 rows × 4 columns</p>\n",
       "</div>"
      ],
      "text/plain": [
       "         Zip  total_population  black_population  hispanic_population\n",
       "0    91304.0           54361.0            2709.0              22303.0\n",
       "1    91311.0           40839.0            2159.0              10550.0\n",
       "3    91307.0           26341.0             995.0               3810.0\n",
       "4    91303.0           31586.0             967.0              20279.0\n",
       "5    91367.0           45970.0            1932.0               5911.0\n",
       "..       ...               ...               ...                  ...\n",
       "260  91731.0           30222.0             118.0              19391.0\n",
       "261  91702.0           62066.0            2014.0              41612.0\n",
       "262  91741.0           26794.0             228.0               7202.0\n",
       "263  91740.0           25877.0             769.0              10895.0\n",
       "264  91792.0           29619.0            1967.0              12852.0\n",
       "\n",
       "[264 rows x 4 columns]"
      ]
     },
     "execution_count": 100,
     "metadata": {},
     "output_type": "execute_result"
    }
   ],
   "source": [
    "Zip"
   ]
  },
  {
   "cell_type": "code",
   "execution_count": 102,
   "metadata": {
    "scrolled": false
   },
   "outputs": [
    {
     "data": {
      "text/html": [
       "<div>\n",
       "<style scoped>\n",
       "    .dataframe tbody tr th:only-of-type {\n",
       "        vertical-align: middle;\n",
       "    }\n",
       "\n",
       "    .dataframe tbody tr th {\n",
       "        vertical-align: top;\n",
       "    }\n",
       "\n",
       "    .dataframe thead th {\n",
       "        text-align: right;\n",
       "    }\n",
       "</style>\n",
       "<table border=\"1\" class=\"dataframe\">\n",
       "  <thead>\n",
       "    <tr style=\"text-align: right;\">\n",
       "      <th></th>\n",
       "      <th>Zip</th>\n",
       "      <th>total_population</th>\n",
       "      <th>black_population</th>\n",
       "      <th>hispanic_population</th>\n",
       "      <th>black_percent</th>\n",
       "      <th>hispanic_percent</th>\n",
       "    </tr>\n",
       "  </thead>\n",
       "  <tbody>\n",
       "    <tr>\n",
       "      <th>0</th>\n",
       "      <td>91304.0</td>\n",
       "      <td>54361.0</td>\n",
       "      <td>2709.0</td>\n",
       "      <td>22303.0</td>\n",
       "      <td>0.049834</td>\n",
       "      <td>0.410276</td>\n",
       "    </tr>\n",
       "    <tr>\n",
       "      <th>1</th>\n",
       "      <td>91311.0</td>\n",
       "      <td>40839.0</td>\n",
       "      <td>2159.0</td>\n",
       "      <td>10550.0</td>\n",
       "      <td>0.052866</td>\n",
       "      <td>0.258331</td>\n",
       "    </tr>\n",
       "    <tr>\n",
       "      <th>3</th>\n",
       "      <td>91307.0</td>\n",
       "      <td>26341.0</td>\n",
       "      <td>995.0</td>\n",
       "      <td>3810.0</td>\n",
       "      <td>0.037774</td>\n",
       "      <td>0.144641</td>\n",
       "    </tr>\n",
       "    <tr>\n",
       "      <th>4</th>\n",
       "      <td>91303.0</td>\n",
       "      <td>31586.0</td>\n",
       "      <td>967.0</td>\n",
       "      <td>20279.0</td>\n",
       "      <td>0.030615</td>\n",
       "      <td>0.642025</td>\n",
       "    </tr>\n",
       "    <tr>\n",
       "      <th>5</th>\n",
       "      <td>91367.0</td>\n",
       "      <td>45970.0</td>\n",
       "      <td>1932.0</td>\n",
       "      <td>5911.0</td>\n",
       "      <td>0.042027</td>\n",
       "      <td>0.128584</td>\n",
       "    </tr>\n",
       "    <tr>\n",
       "      <th>...</th>\n",
       "      <td>...</td>\n",
       "      <td>...</td>\n",
       "      <td>...</td>\n",
       "      <td>...</td>\n",
       "      <td>...</td>\n",
       "      <td>...</td>\n",
       "    </tr>\n",
       "    <tr>\n",
       "      <th>260</th>\n",
       "      <td>91731.0</td>\n",
       "      <td>30222.0</td>\n",
       "      <td>118.0</td>\n",
       "      <td>19391.0</td>\n",
       "      <td>0.003904</td>\n",
       "      <td>0.641619</td>\n",
       "    </tr>\n",
       "    <tr>\n",
       "      <th>261</th>\n",
       "      <td>91702.0</td>\n",
       "      <td>62066.0</td>\n",
       "      <td>2014.0</td>\n",
       "      <td>41612.0</td>\n",
       "      <td>0.032449</td>\n",
       "      <td>0.670448</td>\n",
       "    </tr>\n",
       "    <tr>\n",
       "      <th>262</th>\n",
       "      <td>91741.0</td>\n",
       "      <td>26794.0</td>\n",
       "      <td>228.0</td>\n",
       "      <td>7202.0</td>\n",
       "      <td>0.008509</td>\n",
       "      <td>0.268792</td>\n",
       "    </tr>\n",
       "    <tr>\n",
       "      <th>263</th>\n",
       "      <td>91740.0</td>\n",
       "      <td>25877.0</td>\n",
       "      <td>769.0</td>\n",
       "      <td>10895.0</td>\n",
       "      <td>0.029718</td>\n",
       "      <td>0.421030</td>\n",
       "    </tr>\n",
       "    <tr>\n",
       "      <th>264</th>\n",
       "      <td>91792.0</td>\n",
       "      <td>29619.0</td>\n",
       "      <td>1967.0</td>\n",
       "      <td>12852.0</td>\n",
       "      <td>0.066410</td>\n",
       "      <td>0.433911</td>\n",
       "    </tr>\n",
       "  </tbody>\n",
       "</table>\n",
       "<p>264 rows × 6 columns</p>\n",
       "</div>"
      ],
      "text/plain": [
       "         Zip  total_population  black_population  hispanic_population  \\\n",
       "0    91304.0           54361.0            2709.0              22303.0   \n",
       "1    91311.0           40839.0            2159.0              10550.0   \n",
       "3    91307.0           26341.0             995.0               3810.0   \n",
       "4    91303.0           31586.0             967.0              20279.0   \n",
       "5    91367.0           45970.0            1932.0               5911.0   \n",
       "..       ...               ...               ...                  ...   \n",
       "260  91731.0           30222.0             118.0              19391.0   \n",
       "261  91702.0           62066.0            2014.0              41612.0   \n",
       "262  91741.0           26794.0             228.0               7202.0   \n",
       "263  91740.0           25877.0             769.0              10895.0   \n",
       "264  91792.0           29619.0            1967.0              12852.0   \n",
       "\n",
       "     black_percent  hispanic_percent  \n",
       "0         0.049834          0.410276  \n",
       "1         0.052866          0.258331  \n",
       "3         0.037774          0.144641  \n",
       "4         0.030615          0.642025  \n",
       "5         0.042027          0.128584  \n",
       "..             ...               ...  \n",
       "260       0.003904          0.641619  \n",
       "261       0.032449          0.670448  \n",
       "262       0.008509          0.268792  \n",
       "263       0.029718          0.421030  \n",
       "264       0.066410          0.433911  \n",
       "\n",
       "[264 rows x 6 columns]"
      ]
     },
     "execution_count": 102,
     "metadata": {},
     "output_type": "execute_result"
    }
   ],
   "source": [
    "Zip"
   ]
  },
  {
   "cell_type": "markdown",
   "metadata": {},
   "source": [
    "## Zipcode data export"
   ]
  },
  {
   "cell_type": "code",
   "execution_count": 103,
   "metadata": {},
   "outputs": [],
   "source": [
    "# Zip.to_csv('Zip_demo_data.csv')"
   ]
  }
 ],
 "metadata": {
  "kernelspec": {
   "display_name": "Python 3",
   "language": "python",
   "name": "python3"
  },
  "language_info": {
   "codemirror_mode": {
    "name": "ipython",
    "version": 3
   },
   "file_extension": ".py",
   "mimetype": "text/x-python",
   "name": "python",
   "nbconvert_exporter": "python",
   "pygments_lexer": "ipython3",
   "version": "3.7.7"
  }
 },
 "nbformat": 4,
 "nbformat_minor": 4
}
